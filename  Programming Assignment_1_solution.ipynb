{
 "cells": [
  {
   "cell_type": "markdown",
   "id": "3a881902",
   "metadata": {},
   "source": [
    "## Programming Assignment_1 solution\n"
   ]
  },
  {
   "cell_type": "markdown",
   "id": "f5b3c855",
   "metadata": {},
   "source": [
    "### 1. Write a Python program to print \"Hello Python\"?\n"
   ]
  },
  {
   "cell_type": "code",
   "execution_count": 1,
   "id": "ae365a97",
   "metadata": {},
   "outputs": [
    {
     "name": "stdout",
     "output_type": "stream",
     "text": [
      "Hello Python\n"
     ]
    }
   ],
   "source": [
    "print(\"Hello Python\")"
   ]
  },
  {
   "cell_type": "markdown",
   "id": "c666ce37",
   "metadata": {},
   "source": [
    "### 2. Write a Python program to do arithmetical operations addition and division.?\n"
   ]
  },
  {
   "cell_type": "code",
   "execution_count": 4,
   "id": "038f6388",
   "metadata": {},
   "outputs": [
    {
     "name": "stdout",
     "output_type": "stream",
     "text": [
      "Enter first number: 70\n",
      "Enter second number: 5\n",
      "75\n",
      "14.0\n"
     ]
    }
   ],
   "source": [
    "num1 = int(input('Enter first number: '))\n",
    "num2 = int(input('Enter second number: '))\n",
    "\n",
    "addition = num1+num2\n",
    "division = num1/num2\n",
    "\n",
    "print(addition)\n",
    "print(division)"
   ]
  },
  {
   "cell_type": "markdown",
   "id": "bebf902e",
   "metadata": {},
   "source": [
    "### 3. Write a Python program to find the area of a triangle?\n"
   ]
  },
  {
   "cell_type": "markdown",
   "id": "03c4ca55",
   "metadata": {},
   "source": [
    "####  Area of a Triangle by heron's formula\n",
    "* Area of a Triangle = √(s*(s-a)*(s-b)*(s-c)) \n",
    "\n",
    "Where s = (a + b + c )/ 2 (Here s = semi perimeter and a, b, c are the three sides of a triangle)\n",
    "\n",
    "Perimeter of a Triangle = a + b + c\n",
    "\n"
   ]
  },
  {
   "cell_type": "code",
   "execution_count": 5,
   "id": "43edf7f0",
   "metadata": {},
   "outputs": [
    {
     "name": "stdout",
     "output_type": "stream",
     "text": [
      "Enter a first side of traingle 4\n",
      "Enter a second side of traingle 5\n",
      "Enter a third side of traingle 3\n",
      "Perimeter of triangle 12.0\n",
      "SEmi-Perimeter of triangle 6.0\n",
      "Area of triangle 6.0\n"
     ]
    }
   ],
   "source": [
    "# Input of three sides of triangle\n",
    "\n",
    "a = float(input('Enter a first side of traingle '))\n",
    "b = float(input('Enter a second side of traingle '))\n",
    "c = float(input('Enter a third side of traingle '))\n",
    "\n",
    "perimeter = a+b+c\n",
    "s = perimeter/2\n",
    "\n",
    "Area = (s*(s-a)*(s-b)*(s-c)) ** 0.5\n",
    "\n",
    "print('Perimeter of triangle',perimeter)\n",
    "print('Semi-Perimeter of triangle',s)\n",
    "print('Area of triangle',Area)"
   ]
  },
  {
   "cell_type": "markdown",
   "id": "8d0f5857",
   "metadata": {},
   "source": [
    "### 4. Write a Python program to swap two variables?\n"
   ]
  },
  {
   "cell_type": "code",
   "execution_count": 6,
   "id": "afe6d452",
   "metadata": {},
   "outputs": [
    {
     "name": "stdout",
     "output_type": "stream",
     "text": [
      "Enter first number 4\n",
      "Enter second number 7\n",
      "Before swapping a 4\n",
      "Before swapping b 7\n",
      "After swapping a 7\n",
      "After swapping b 4\n"
     ]
    }
   ],
   "source": [
    "# swapping of two variable by using 3rd variable\n",
    "\n",
    "a = int(input('Enter first number '))\n",
    "b = int(input('Enter second number '))\n",
    "\n",
    "print('Before swapping a',a)\n",
    "print('Before swapping b',b)\n",
    "\n",
    "# 3rd variable \"temp\"\n",
    "temp = a\n",
    "a = b\n",
    "b = temp\n",
    "\n",
    "#after swappig\n",
    "print('After swapping a',a)\n",
    "print('After swapping b',b)"
   ]
  },
  {
   "cell_type": "markdown",
   "id": "bd417c13",
   "metadata": {},
   "source": [
    "### 5. Write a Python program to generate a random number?\n"
   ]
  },
  {
   "cell_type": "code",
   "execution_count": 7,
   "id": "05130f69",
   "metadata": {},
   "outputs": [],
   "source": [
    "# generate random number  between (0,10)\n",
    "\n",
    "import random"
   ]
  },
  {
   "cell_type": "code",
   "execution_count": 13,
   "id": "49b6e324",
   "metadata": {},
   "outputs": [
    {
     "name": "stdout",
     "output_type": "stream",
     "text": [
      "5\n"
     ]
    }
   ],
   "source": [
    "print(random.randint(0,10))"
   ]
  },
  {
   "cell_type": "code",
   "execution_count": null,
   "id": "8b98e380",
   "metadata": {},
   "outputs": [],
   "source": []
  }
 ],
 "metadata": {
  "kernelspec": {
   "display_name": "Python 3 (ipykernel)",
   "language": "python",
   "name": "python3"
  },
  "language_info": {
   "codemirror_mode": {
    "name": "ipython",
    "version": 3
   },
   "file_extension": ".py",
   "mimetype": "text/x-python",
   "name": "python",
   "nbconvert_exporter": "python",
   "pygments_lexer": "ipython3",
   "version": "3.9.12"
  }
 },
 "nbformat": 4,
 "nbformat_minor": 5
}
