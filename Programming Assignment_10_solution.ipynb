{
 "cells": [
  {
   "cell_type": "markdown",
   "id": "3dcb940f",
   "metadata": {},
   "source": [
    "## Python Basic Programming Assignment 10_solution"
   ]
  },
  {
   "cell_type": "markdown",
   "id": "6720790a",
   "metadata": {},
   "source": [
    "### 1. Write a Python program to find sum of elements in list?"
   ]
  },
  {
   "cell_type": "code",
   "execution_count": 1,
   "id": "0438fe35",
   "metadata": {},
   "outputs": [
    {
     "data": {
      "text/plain": [
       "[3, 5, 23, 45, 20]"
      ]
     },
     "execution_count": 1,
     "metadata": {},
     "output_type": "execute_result"
    }
   ],
   "source": [
    "list1 = [3,5,23,45,20]\n",
    "list1"
   ]
  },
  {
   "cell_type": "code",
   "execution_count": 2,
   "id": "b3035055",
   "metadata": {},
   "outputs": [
    {
     "name": "stdout",
     "output_type": "stream",
     "text": [
      "Sum of element in list : 96\n"
     ]
    }
   ],
   "source": [
    "list_sum = sum(list1)\n",
    "print(\"Sum of element in list :\",list_sum)"
   ]
  },
  {
   "cell_type": "markdown",
   "id": "fe1137c3",
   "metadata": {},
   "source": [
    "### 2. Write a Python program to  Multiply all numbers in the list?"
   ]
  },
  {
   "cell_type": "code",
   "execution_count": 3,
   "id": "666c887f",
   "metadata": {},
   "outputs": [
    {
     "name": "stdout",
     "output_type": "stream",
     "text": [
      "320\n"
     ]
    }
   ],
   "source": [
    "# 1. by taversal\n",
    "def multlist(list2):\n",
    "    result=1\n",
    "    for i in list2:\n",
    "        result = result*i\n",
    "    return result\n",
    "\n",
    "list2 = [2,4,5,8]\n",
    "print(multlist(list2))  "
   ]
  },
  {
   "cell_type": "code",
   "execution_count": 4,
   "id": "4f3fb226",
   "metadata": {},
   "outputs": [],
   "source": [
    "#2. by numpy prod method\n",
    "import numpy as np"
   ]
  },
  {
   "cell_type": "code",
   "execution_count": 5,
   "id": "84287ee1",
   "metadata": {},
   "outputs": [
    {
     "data": {
      "text/plain": [
       "320"
      ]
     },
     "execution_count": 5,
     "metadata": {},
     "output_type": "execute_result"
    }
   ],
   "source": [
    "multiply=np.prod(list2)\n",
    "multiply"
   ]
  },
  {
   "cell_type": "markdown",
   "id": "078681db",
   "metadata": {},
   "source": [
    "### 3. Write a Python program to find smallest number in a list?"
   ]
  },
  {
   "cell_type": "code",
   "execution_count": 6,
   "id": "ef37e93a",
   "metadata": {},
   "outputs": [
    {
     "data": {
      "text/plain": [
       "[4, 5, 6, 77, 2, 90]"
      ]
     },
     "execution_count": 6,
     "metadata": {},
     "output_type": "execute_result"
    }
   ],
   "source": [
    "list3 = [4,5,6,77,2,90]\n",
    "list3"
   ]
  },
  {
   "cell_type": "code",
   "execution_count": 7,
   "id": "e80becd5",
   "metadata": {},
   "outputs": [
    {
     "name": "stdout",
     "output_type": "stream",
     "text": [
      "Smallest number in list : 2\n"
     ]
    }
   ],
   "source": [
    "# to fint smallest number in list\n",
    "samll_num = min(list3)\n",
    "print('Smallest number in list :',samll_num)"
   ]
  },
  {
   "cell_type": "markdown",
   "id": "12b04397",
   "metadata": {},
   "source": [
    "### 4. Write a Python program to find largest number in a list?"
   ]
  },
  {
   "cell_type": "code",
   "execution_count": 8,
   "id": "7ec664af",
   "metadata": {},
   "outputs": [
    {
     "data": {
      "text/plain": [
       "[4, 5, 6, 77, 2, 90]"
      ]
     },
     "execution_count": 8,
     "metadata": {},
     "output_type": "execute_result"
    }
   ],
   "source": [
    "list3"
   ]
  },
  {
   "cell_type": "code",
   "execution_count": 9,
   "id": "c8f675d8",
   "metadata": {},
   "outputs": [
    {
     "name": "stdout",
     "output_type": "stream",
     "text": [
      "Largest number in list : 90\n"
     ]
    }
   ],
   "source": [
    "# to fint largest number in list\n",
    "large_num = max(list3)\n",
    "print('Largest number in list :',large_num)"
   ]
  },
  {
   "cell_type": "markdown",
   "id": "86442b51",
   "metadata": {},
   "source": [
    "### 5. Write a Python program to find second largest number in a list?"
   ]
  },
  {
   "cell_type": "code",
   "execution_count": 10,
   "id": "466a6a48",
   "metadata": {},
   "outputs": [],
   "source": [
    "#by sorted method"
   ]
  },
  {
   "cell_type": "code",
   "execution_count": 11,
   "id": "96ba7aac",
   "metadata": {},
   "outputs": [
    {
     "data": {
      "text/plain": [
       "[4, 5, 6, 77, 2, 90]"
      ]
     },
     "execution_count": 11,
     "metadata": {},
     "output_type": "execute_result"
    }
   ],
   "source": [
    "list3 = [4,5,6,77,2,90]\n",
    "list3"
   ]
  },
  {
   "cell_type": "code",
   "execution_count": 12,
   "id": "00dd2746",
   "metadata": {},
   "outputs": [
    {
     "data": {
      "text/plain": [
       "[2, 4, 5, 6, 77, 90]"
      ]
     },
     "execution_count": 12,
     "metadata": {},
     "output_type": "execute_result"
    }
   ],
   "source": [
    "new_list = sorted(list3)\n",
    "new_list"
   ]
  },
  {
   "cell_type": "code",
   "execution_count": 13,
   "id": "a23f9cad",
   "metadata": {},
   "outputs": [
    {
     "data": {
      "text/plain": [
       "77"
      ]
     },
     "execution_count": 13,
     "metadata": {},
     "output_type": "execute_result"
    }
   ],
   "source": [
    "new_list[-2]"
   ]
  },
  {
   "cell_type": "code",
   "execution_count": 14,
   "id": "3d7d1eac",
   "metadata": {},
   "outputs": [
    {
     "name": "stdout",
     "output_type": "stream",
     "text": [
      "Second largest number in list is 77 .\n"
     ]
    }
   ],
   "source": [
    "print('Second largest number in list is',new_list[-2],'.')"
   ]
  },
  {
   "cell_type": "markdown",
   "id": "10964d7d",
   "metadata": {},
   "source": [
    "### 6. Write a Python program to find N largest elements from a list?"
   ]
  },
  {
   "cell_type": "code",
   "execution_count": 15,
   "id": "ed3a817c",
   "metadata": {},
   "outputs": [
    {
     "data": {
      "text/plain": [
       "[22, 66, 45, 23, 400, 230, 660, 34, 500]"
      ]
     },
     "execution_count": 15,
     "metadata": {},
     "output_type": "execute_result"
    }
   ],
   "source": [
    "list4 = [22,66,45,23,400,230,660,34,500]\n",
    "list4"
   ]
  },
  {
   "cell_type": "code",
   "execution_count": 16,
   "id": "1cbe4c54",
   "metadata": {},
   "outputs": [],
   "source": [
    "# N largest number\n",
    "N=3"
   ]
  },
  {
   "cell_type": "code",
   "execution_count": 17,
   "id": "76526dc1",
   "metadata": {},
   "outputs": [
    {
     "data": {
      "text/plain": [
       "[22, 23, 34, 45, 66, 230, 400, 500, 660]"
      ]
     },
     "execution_count": 17,
     "metadata": {},
     "output_type": "execute_result"
    }
   ],
   "source": [
    "n_list  = sorted(list4)\n",
    "n_list"
   ]
  },
  {
   "cell_type": "code",
   "execution_count": 18,
   "id": "52661f48",
   "metadata": {},
   "outputs": [
    {
     "data": {
      "text/plain": [
       "[400, 500, 660]"
      ]
     },
     "execution_count": 18,
     "metadata": {},
     "output_type": "execute_result"
    }
   ],
   "source": [
    "n_list[-3:]"
   ]
  },
  {
   "cell_type": "code",
   "execution_count": 19,
   "id": "b6e04931",
   "metadata": {},
   "outputs": [
    {
     "name": "stdout",
     "output_type": "stream",
     "text": [
      "N largest number is [400, 500, 660]\n"
     ]
    }
   ],
   "source": [
    "print('N largest number is',n_list[-3:])"
   ]
  },
  {
   "cell_type": "markdown",
   "id": "2f1a1e98",
   "metadata": {},
   "source": [
    "### 7. Write a Python program to print even numbers in a list?"
   ]
  },
  {
   "cell_type": "code",
   "execution_count": 20,
   "id": "7024efe0",
   "metadata": {},
   "outputs": [
    {
     "data": {
      "text/plain": [
       "[3, 5, 6, 7, 23, 12, 34, 33, 8, 10]"
      ]
     },
     "execution_count": 20,
     "metadata": {},
     "output_type": "execute_result"
    }
   ],
   "source": [
    "list5=[3,5,6,7,23,12,34,33,8,10]\n",
    "list5"
   ]
  },
  {
   "cell_type": "code",
   "execution_count": 21,
   "id": "bbba6d3b",
   "metadata": {},
   "outputs": [
    {
     "name": "stdout",
     "output_type": "stream",
     "text": [
      "6 12 34 8 10 "
     ]
    }
   ],
   "source": [
    "#by for loop\n",
    "for num in list5:\n",
    "    if num% 2==0:\n",
    "         \n",
    "        print(num,end=\" \")"
   ]
  },
  {
   "cell_type": "code",
   "execution_count": 22,
   "id": "6656c23f",
   "metadata": {},
   "outputs": [
    {
     "name": "stdout",
     "output_type": "stream",
     "text": [
      "Even numbers are [6, 12, 34, 8, 10]\n"
     ]
    }
   ],
   "source": [
    "# by list comprehension\n",
    "list5=[3,5,6,7,23,12,34,33,8,10]\n",
    "even_list = [num for num in list5 if num% 2==0]\n",
    "print('Even numbers are',even_list)"
   ]
  },
  {
   "cell_type": "markdown",
   "id": "989bb324",
   "metadata": {},
   "source": [
    "### 8. Write a Python program to print odd numbers in a List?"
   ]
  },
  {
   "cell_type": "code",
   "execution_count": 23,
   "id": "1fdf2c20",
   "metadata": {},
   "outputs": [
    {
     "data": {
      "text/plain": [
       "[3, 5, 6, 7, 23, 12, 34, 33, 8, 10]"
      ]
     },
     "execution_count": 23,
     "metadata": {},
     "output_type": "execute_result"
    }
   ],
   "source": [
    "list5"
   ]
  },
  {
   "cell_type": "code",
   "execution_count": 24,
   "id": "cfd01695",
   "metadata": {},
   "outputs": [
    {
     "name": "stdout",
     "output_type": "stream",
     "text": [
      "Even numbers are [3, 5, 7, 23, 33]\n"
     ]
    }
   ],
   "source": [
    "list5=[3,5,6,7,23,12,34,33,8,10]\n",
    "odd_list = [num for num in list5 if num% 2 != 0]\n",
    "print('Even numbers are',odd_list)"
   ]
  },
  {
   "cell_type": "markdown",
   "id": "185b7b13",
   "metadata": {},
   "source": [
    "### 9. Write a Python program to Remove empty List from List?"
   ]
  },
  {
   "cell_type": "code",
   "execution_count": 25,
   "id": "13a8d9cf",
   "metadata": {},
   "outputs": [
    {
     "data": {
      "text/plain": [
       "[4, [], 45, 6, 23, [], 22, []]"
      ]
     },
     "execution_count": 25,
     "metadata": {},
     "output_type": "execute_result"
    }
   ],
   "source": [
    "emp_list = [4,[],45,6,23,[],22,[]]\n",
    "emp_list"
   ]
  },
  {
   "cell_type": "code",
   "execution_count": 26,
   "id": "521d15b1",
   "metadata": {},
   "outputs": [],
   "source": [
    "new_list = [ele for ele in emp_list if ele != []]"
   ]
  },
  {
   "cell_type": "code",
   "execution_count": 27,
   "id": "ce3e928b",
   "metadata": {},
   "outputs": [
    {
     "name": "stdout",
     "output_type": "stream",
     "text": [
      "original list: [4, [], 45, 6, 23, [], 22, []]\n",
      "after removing empty list: [4, 45, 6, 23, 22]\n"
     ]
    }
   ],
   "source": [
    "print('original list:',emp_list)\n",
    "print('after removing empty list:',new_list)"
   ]
  },
  {
   "cell_type": "markdown",
   "id": "278cfacc",
   "metadata": {},
   "source": [
    "### 10. Write a Python program to Cloning or Copying a list?"
   ]
  },
  {
   "cell_type": "code",
   "execution_count": 28,
   "id": "ce4e090e",
   "metadata": {},
   "outputs": [
    {
     "data": {
      "text/plain": [
       "[3, 5, 6, 7, 23, 12, 34, 33, 8, 10]"
      ]
     },
     "execution_count": 28,
     "metadata": {},
     "output_type": "execute_result"
    }
   ],
   "source": [
    "list5"
   ]
  },
  {
   "cell_type": "code",
   "execution_count": 29,
   "id": "97d1e7c4",
   "metadata": {},
   "outputs": [
    {
     "name": "stdout",
     "output_type": "stream",
     "text": [
      "Clonning list is: [3, 5, 6, 7, 23, 12, 34, 33, 8, 10]\n"
     ]
    }
   ],
   "source": [
    "#by slicing\n",
    "list5[:]\n",
    "print('Clonning list is:',list5[:])"
   ]
  },
  {
   "cell_type": "code",
   "execution_count": 30,
   "id": "fb85cd9d",
   "metadata": {},
   "outputs": [
    {
     "data": {
      "text/plain": [
       "[3, 5, 6, 7, 23, 12, 34, 33, 8, 10]"
      ]
     },
     "execution_count": 30,
     "metadata": {},
     "output_type": "execute_result"
    }
   ],
   "source": [
    "# by copy module\n",
    "import copy\n",
    "copy.copy(list5)\n"
   ]
  },
  {
   "cell_type": "markdown",
   "id": "b359bedf",
   "metadata": {},
   "source": [
    "### 11. Write a Python program to Count occurrences of an element in a list?"
   ]
  },
  {
   "cell_type": "code",
   "execution_count": 31,
   "id": "926eac4b",
   "metadata": {},
   "outputs": [
    {
     "data": {
      "text/plain": [
       "[1, 2, 3, 2, 3, 12, 10, 10, 12, 3, 4, 12, 12, 12, 10]"
      ]
     },
     "execution_count": 31,
     "metadata": {},
     "output_type": "execute_result"
    }
   ],
   "source": [
    "list_1 = [1,2,3,2,3,12,10,10,12,3,4,12,12,12,10]\n",
    "list_1"
   ]
  },
  {
   "cell_type": "code",
   "execution_count": 32,
   "id": "6508de08",
   "metadata": {},
   "outputs": [
    {
     "name": "stdout",
     "output_type": "stream",
     "text": [
      "Occurance of 2 is 2 times.\n"
     ]
    }
   ],
   "source": [
    "#number of occurences\n",
    "list_1.count(2)\n",
    "print('Occurance of 2 is',list_1.count(2),'times.')"
   ]
  },
  {
   "cell_type": "code",
   "execution_count": 33,
   "id": "2dec60a0",
   "metadata": {},
   "outputs": [
    {
     "name": "stdout",
     "output_type": "stream",
     "text": [
      "Occurance of 10 is 3 times.\n"
     ]
    }
   ],
   "source": [
    "list_1.count(10)\n",
    "print('Occurance of 10 is',list_1.count(10),'times.')"
   ]
  },
  {
   "cell_type": "code",
   "execution_count": 34,
   "id": "a3a0fad2",
   "metadata": {},
   "outputs": [
    {
     "name": "stdout",
     "output_type": "stream",
     "text": [
      "Occurance of 12 is 5 times.\n"
     ]
    }
   ],
   "source": [
    "list_1.count(12)\n",
    "print('Occurance of 12 is',list_1.count(12),'times.')"
   ]
  },
  {
   "cell_type": "code",
   "execution_count": null,
   "id": "f46b0bd9",
   "metadata": {},
   "outputs": [],
   "source": []
  }
 ],
 "metadata": {
  "kernelspec": {
   "display_name": "Python 3 (ipykernel)",
   "language": "python",
   "name": "python3"
  },
  "language_info": {
   "codemirror_mode": {
    "name": "ipython",
    "version": 3
   },
   "file_extension": ".py",
   "mimetype": "text/x-python",
   "name": "python",
   "nbconvert_exporter": "python",
   "pygments_lexer": "ipython3",
   "version": "3.9.12"
  }
 },
 "nbformat": 4,
 "nbformat_minor": 5
}
