{
 "cells": [
  {
   "cell_type": "markdown",
   "id": "62fd0c8e",
   "metadata": {},
   "source": [
    "##  Programming Assignment_13_solution"
   ]
  },
  {
   "cell_type": "markdown",
   "id": "ed4a3c0b",
   "metadata": {},
   "source": [
    "\n",
    "### 1. Write a program that calculates and prints the value according to the given formula:\n",
    "Q = Square root of [(2 C D)/H]\n",
    "\n",
    "Following are the fixed values of C and H:\n",
    "\n",
    "C is 50. H is 30.\n",
    "\n",
    "D is the variable whose values should be input to your program in a comma-separated sequence.\n",
    "\n",
    "Example\n",
    "\n",
    "Let us assume the following comma separated input sequence is given to the program:\n",
    "\n",
    "100,150,180\n",
    "\n",
    "The output of the program should be:\n",
    "\n",
    "18,22,24"
   ]
  },
  {
   "cell_type": "code",
   "execution_count": 11,
   "id": "40cd95dd",
   "metadata": {},
   "outputs": [],
   "source": [
    "import math"
   ]
  },
  {
   "cell_type": "code",
   "execution_count": 13,
   "id": "22ceb0bd",
   "metadata": {},
   "outputs": [
    {
     "name": "stdout",
     "output_type": "stream",
     "text": [
      "Enter values:100,150,180\n",
      "Output is 18,22,24\n"
     ]
    }
   ],
   "source": [
    "# D=100,150,180\n",
    "C = 50\n",
    "H = 30\n",
    "\n",
    "val = input(\"Enter values:\")\n",
    "value = []\n",
    "\n",
    "items=[x for x in val.split(',')]\n",
    "for D in items:\n",
    "    value.append(str(int(round(math.sqrt(2*C*float(D)/H)))))\n",
    "\n",
    "print('Output is',','.join(value))"
   ]
  },
  {
   "cell_type": "markdown",
   "id": "ed37b6ed",
   "metadata": {},
   "source": [
    "### 2. Write a program which takes 2 digits, X,Y as input and generates a 2-dimensional array. The element value in the i-th row and j-th column of the array should be i*j."
   ]
  },
  {
   "cell_type": "code",
   "execution_count": 14,
   "id": "f230b1b7",
   "metadata": {},
   "outputs": [
    {
     "name": "stdout",
     "output_type": "stream",
     "text": [
      "Input number of rows: 3\n",
      "Input number of columns: 3\n",
      "2d array is [[0, 0, 0], [0, 1, 2], [0, 2, 4]]\n"
     ]
    }
   ],
   "source": [
    "row = int(input(\"Input number of rows: \"))\n",
    "col = int(input(\"Input number of columns: \"))\n",
    "arr = [[0 for j in range(col)] for i in range(row)]\n",
    "\n",
    "for i in range(row):\n",
    "    for j in range(col):\n",
    "        arr[i][j]= i*j\n",
    "\n",
    "print(\"2d array is\",arr)"
   ]
  },
  {
   "cell_type": "code",
   "execution_count": 20,
   "id": "525e2e08",
   "metadata": {},
   "outputs": [
    {
     "name": "stdout",
     "output_type": "stream",
     "text": [
      "[[0 0 0]\n",
      " [0 1 2]\n",
      " [0 2 4]]\n"
     ]
    }
   ],
   "source": [
    "import numpy as np\n",
    "arr=np.array(arr)\n",
    "print(arr)"
   ]
  },
  {
   "cell_type": "code",
   "execution_count": 27,
   "id": "77da81f5",
   "metadata": {},
   "outputs": [
    {
     "data": {
      "text/plain": [
       "numpy.ndarray"
      ]
     },
     "execution_count": 27,
     "metadata": {},
     "output_type": "execute_result"
    }
   ],
   "source": [
    "type(arr)"
   ]
  },
  {
   "cell_type": "code",
   "execution_count": 28,
   "id": "a7bdca86",
   "metadata": {},
   "outputs": [
    {
     "data": {
      "text/plain": [
       "(3, 3)"
      ]
     },
     "execution_count": 28,
     "metadata": {},
     "output_type": "execute_result"
    }
   ],
   "source": [
    "arr.shape"
   ]
  },
  {
   "cell_type": "code",
   "execution_count": 29,
   "id": "875bb512",
   "metadata": {},
   "outputs": [],
   "source": [
    "#dir(arr)"
   ]
  },
  {
   "cell_type": "markdown",
   "id": "bc7f977b",
   "metadata": {},
   "source": [
    "### 3. Write a program that accepts a comma separated sequence of words as input and prints the words in a comma-separated sequence after sorting them alphabetically."
   ]
  },
  {
   "cell_type": "code",
   "execution_count": 30,
   "id": "6df350cd",
   "metadata": {},
   "outputs": [
    {
     "name": "stdout",
     "output_type": "stream",
     "text": [
      "comma separated sequence of words:boll,doll,maggi,moon,papaya,lion\n",
      "['boll', 'doll', 'maggi', 'moon', 'papaya', 'lion']\n"
     ]
    }
   ],
   "source": [
    "sequence = input(\"comma separated sequence of words:\")\n",
    "words = [word for word in sequence.split(',')]\n",
    "print(words)"
   ]
  },
  {
   "cell_type": "code",
   "execution_count": 31,
   "id": "0b27a7a8",
   "metadata": {},
   "outputs": [
    {
     "data": {
      "text/plain": [
       "{'boll', 'doll', 'lion', 'maggi', 'moon', 'papaya'}"
      ]
     },
     "execution_count": 31,
     "metadata": {},
     "output_type": "execute_result"
    }
   ],
   "source": [
    "#sorted by set() method\n",
    "set(words)"
   ]
  },
  {
   "cell_type": "code",
   "execution_count": 32,
   "id": "e8fd8b77",
   "metadata": {},
   "outputs": [
    {
     "data": {
      "text/plain": [
       "['papaya', 'doll', 'moon', 'boll', 'maggi', 'lion']"
      ]
     },
     "execution_count": 32,
     "metadata": {},
     "output_type": "execute_result"
    }
   ],
   "source": [
    "list(set(words))"
   ]
  },
  {
   "cell_type": "code",
   "execution_count": 33,
   "id": "bd5ef778",
   "metadata": {},
   "outputs": [
    {
     "data": {
      "text/plain": [
       "['boll', 'doll', 'lion', 'maggi', 'moon', 'papaya']"
      ]
     },
     "execution_count": 33,
     "metadata": {},
     "output_type": "execute_result"
    }
   ],
   "source": [
    "# sorted into list\n",
    "sorted(list(set(words)))"
   ]
  },
  {
   "cell_type": "markdown",
   "id": "171c3d90",
   "metadata": {},
   "source": [
    "### 4. Write a program that accepts a sequence of whitespace separated words as input and prints the words after removing all duplicate words and sorting them alphanumerically."
   ]
  },
  {
   "cell_type": "code",
   "execution_count": 34,
   "id": "8dffb911",
   "metadata": {},
   "outputs": [
    {
     "name": "stdout",
     "output_type": "stream",
     "text": [
      "whitespace separated sequence of words:moon gun pen pen book book mango apple emli\n",
      "['moon', 'gun', 'pen', 'pen', 'book', 'book', 'mango', 'apple', 'emli']\n"
     ]
    }
   ],
   "source": [
    "sequence = input(\"whitespace separated sequence of words:\")\n",
    "words = [word for word in sequence.split(' ')]\n",
    "print(words)"
   ]
  },
  {
   "cell_type": "code",
   "execution_count": 35,
   "id": "b329e9b4",
   "metadata": {},
   "outputs": [
    {
     "data": {
      "text/plain": [
       "{'apple', 'book', 'emli', 'gun', 'mango', 'moon', 'pen'}"
      ]
     },
     "execution_count": 35,
     "metadata": {},
     "output_type": "execute_result"
    }
   ],
   "source": [
    "#sorted by set() method\n",
    "set(words)"
   ]
  },
  {
   "cell_type": "code",
   "execution_count": 36,
   "id": "2b561887",
   "metadata": {},
   "outputs": [
    {
     "data": {
      "text/plain": [
       "['apple', 'mango', 'book', 'moon', 'pen', 'gun', 'emli']"
      ]
     },
     "execution_count": 36,
     "metadata": {},
     "output_type": "execute_result"
    }
   ],
   "source": [
    "list(set(words))"
   ]
  },
  {
   "cell_type": "code",
   "execution_count": 37,
   "id": "cc099bce",
   "metadata": {},
   "outputs": [
    {
     "data": {
      "text/plain": [
       "['apple', 'book', 'emli', 'gun', 'mango', 'moon', 'pen']"
      ]
     },
     "execution_count": 37,
     "metadata": {},
     "output_type": "execute_result"
    }
   ],
   "source": [
    "# sorted into list\n",
    "sorted(list(set(words)))"
   ]
  },
  {
   "cell_type": "markdown",
   "id": "88d25c49",
   "metadata": {},
   "source": [
    "### 5. Write a program that accepts a sentence and calculate the number of letters and digits."
   ]
  },
  {
   "cell_type": "code",
   "execution_count": 41,
   "id": "42c32f09",
   "metadata": {},
   "outputs": [
    {
     "name": "stdout",
     "output_type": "stream",
     "text": [
      "Enter a string with number:follow2dream5\n",
      "Count of digits: 2\n",
      "Count of letters: 11\n"
     ]
    }
   ],
   "source": [
    "# by isalpha() method\n",
    "\n",
    "str1 = input('Enter a string with number:')\n",
    "count = 0                   # for count of letters\n",
    "\n",
    "for i in str1:\n",
    "    if (i.isalpha()):\n",
    "        count = count+1\n",
    "        \n",
    "print('Count of digits:', len(str1)-count)\n",
    "print('Count of letters:', count)"
   ]
  },
  {
   "cell_type": "markdown",
   "id": "9695c4ca",
   "metadata": {},
   "source": [
    "### 6. A website requires the users to input username and password to register. Write a program to check the validity of password input by users."
   ]
  },
  {
   "cell_type": "code",
   "execution_count": 42,
   "id": "e49fece8",
   "metadata": {},
   "outputs": [],
   "source": [
    "import re\n"
   ]
  },
  {
   "cell_type": "code",
   "execution_count": 44,
   "id": "0e84e04e",
   "metadata": {},
   "outputs": [
    {
     "name": "stdout",
     "output_type": "stream",
     "text": [
      "Enter a password: jhuL90000^\n",
      "Password is ['jhuL90000^']\n"
     ]
    }
   ],
   "source": [
    "pw = input(\"Enter a password: \")\n",
    "pw = pw.split(\",\")\n",
    "\n",
    "accepted_pass = []\n",
    "for i in pw:\n",
    "    \n",
    "    if len(i) < 6 or len(i) > 12:\n",
    "        continue\n",
    "\n",
    "    elif not re.search(\"([a-z])+\", i):\n",
    "        continue\n",
    "\n",
    "    elif not re.search(\"([A-Z])+\", i):\n",
    "        continue\n",
    "\n",
    "    elif not re.search(\"([0-9])+\", i):\n",
    "        continue\n",
    "\n",
    "    elif not re.search(\"([!@$%^&])+\", i):\n",
    "        continue\n",
    "\n",
    "    else:\n",
    "        accepted_pass.append(i)\n",
    "\n",
    "print('Password is',accepted_pass)"
   ]
  },
  {
   "cell_type": "code",
   "execution_count": 45,
   "id": "5ae772b1",
   "metadata": {},
   "outputs": [
    {
     "name": "stdout",
     "output_type": "stream",
     "text": [
      "Enter passwords :SE443e$$\n",
      "password is SE443e$$\n"
     ]
    }
   ],
   "source": [
    "pw = input(\"Enter passwords :\")\n",
    "list1 = pw.split(\",\")\n",
    "for i in list1:\n",
    "    if(len(i)>=6 and len(i)<=12):\n",
    "        if re.search(\"([a-z])+\", i):\n",
    "            if re.search(\"([A-Z])+\", i):\n",
    "                if re.search(\"([0-9])+\", i):\n",
    "                    if re.search(\"([#,@,$])+\", i):\n",
    "                        print('password is', i)"
   ]
  },
  {
   "cell_type": "code",
   "execution_count": null,
   "id": "7e599be4",
   "metadata": {},
   "outputs": [],
   "source": []
  }
 ],
 "metadata": {
  "kernelspec": {
   "display_name": "Python 3 (ipykernel)",
   "language": "python",
   "name": "python3"
  },
  "language_info": {
   "codemirror_mode": {
    "name": "ipython",
    "version": 3
   },
   "file_extension": ".py",
   "mimetype": "text/x-python",
   "name": "python",
   "nbconvert_exporter": "python",
   "pygments_lexer": "ipython3",
   "version": "3.9.12"
  }
 },
 "nbformat": 4,
 "nbformat_minor": 5
}
