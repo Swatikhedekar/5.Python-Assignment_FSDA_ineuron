{
 "cells": [
  {
   "cell_type": "markdown",
   "id": "7df6e6a0",
   "metadata": {},
   "source": [
    "## Python Basic Programming Assignment - 15_solution\n"
   ]
  },
  {
   "cell_type": "markdown",
   "id": "de299c62",
   "metadata": {},
   "source": [
    "### 1. Please write a program using generator to print the numbers which can be divisible by 5 and 7 between 0 and n in comma separated form while n is input by console."
   ]
  },
  {
   "cell_type": "code",
   "execution_count": 2,
   "id": "3c3cdb2c",
   "metadata": {},
   "outputs": [
    {
     "name": "stdout",
     "output_type": "stream",
     "text": [
      "Enter a num:100\n",
      "Number divisible by 7 & 5 : 35,70\n"
     ]
    }
   ],
   "source": [
    "list1=[]    \n",
    "#n=100\n",
    "n=int(input('Enter a num:'))\n",
    "for i in range(1, n):\n",
    "    if i%7 == 0 and i%5 == 0:\n",
    "        list1.append(str(i))\n",
    "    \n",
    "        \n",
    "print('Number divisible by 7 & 5 :',','.join(list1))"
   ]
  },
  {
   "cell_type": "markdown",
   "id": "c04aab80",
   "metadata": {},
   "source": [
    "\n",
    "### 2. Please write a program using generator to print the even numbers between 0 and n in comma separated form while n is input by console."
   ]
  },
  {
   "cell_type": "code",
   "execution_count": 3,
   "id": "d20df06e",
   "metadata": {},
   "outputs": [
    {
     "name": "stdout",
     "output_type": "stream",
     "text": [
      "Even numbers are: 0,2,4,6,8,10,12,14,16,18,20,22,24,26,28,30,32,34,36,38,40,42,44,46,48\n"
     ]
    }
   ],
   "source": [
    "#even number from (0 to 50)\n",
    "list2=[]\n",
    "for i in range(0, 50):\n",
    "    if i%2 == 0 :\n",
    "        list2.append(str(i))\n",
    "    \n",
    "        \n",
    "print('Even numbers are:',','.join(list2))"
   ]
  },
  {
   "cell_type": "markdown",
   "id": "35b72559",
   "metadata": {},
   "source": [
    "### 3. Please write a program using list comprehension to print the Fibonacci Sequence in comma separated form with a given n input by console."
   ]
  },
  {
   "cell_type": "markdown",
   "id": "5d2811e7",
   "metadata": {},
   "source": [
    "- The **Fibonacci sequence** is a type series where each number is the sum of the two that precede it. \n",
    "- It starts from 0 and 1 usually. \n",
    "- The Fibonacci sequence is given by 0, 1, 1, 2, 3, 5, 8, 13, 21, 34, 55, 89, 144, and so on. "
   ]
  },
  {
   "cell_type": "code",
   "execution_count": 4,
   "id": "d6cf131c",
   "metadata": {},
   "outputs": [
    {
     "name": "stdout",
     "output_type": "stream",
     "text": [
      "Enter  a number:8\n",
      "Fibonacci sequence are: [0, 1, 1, 2, 3, 5, 8, 13]\n"
     ]
    }
   ],
   "source": [
    "#getting input from user\n",
    "num= int(input('Enter  a number:'))\n",
    "\n",
    "#create empty list\n",
    "t = []\n",
    "\n",
    "#list comprehention for fibonacci sequence\n",
    "\n",
    "[t.append(0) if i==0 else t.append(1)\n",
    "             if i==1 else t.append(t[-2]+t[-1]) \n",
    "            for i in range(num)]\n",
    "print('Fibonacci sequence are:',t)"
   ]
  },
  {
   "cell_type": "markdown",
   "id": "dea0be0f",
   "metadata": {},
   "source": [
    "\n",
    "### 4. Assuming that we have some email addresses in the \"username@companyname.com\" format, please write program to print the user name of a given email address. Both user names and company names are composed of letters only."
   ]
  },
  {
   "cell_type": "code",
   "execution_count": 5,
   "id": "d5fcc71d",
   "metadata": {},
   "outputs": [
    {
     "name": "stdout",
     "output_type": "stream",
     "text": [
      "Enter email address :shiva@karma.com\n",
      "User name : shiva\n",
      "comany name: karma\n"
     ]
    }
   ],
   "source": [
    "email = input(\"Enter email address :\")\n",
    "mail= email.split(\"@\")\n",
    "\n",
    "user_name = mail[0]\n",
    "company_name = mail[1].split('.')\n",
    "print('User name :',user_name)\n",
    "print('comany name:',company_name[0])"
   ]
  },
  {
   "cell_type": "markdown",
   "id": "2834c88f",
   "metadata": {},
   "source": [
    "\n",
    "### 5. Define a class named Shape and its subclass Square. The Square class has an init function which takes a length as argument. Both classes have a area function which can print the area of the shape where Shape's area is 0 by default."
   ]
  },
  {
   "cell_type": "code",
   "execution_count": 6,
   "id": "fa27fc38",
   "metadata": {},
   "outputs": [
    {
     "name": "stdout",
     "output_type": "stream",
     "text": [
      "area of shape: 16\n"
     ]
    }
   ],
   "source": [
    "class Shape(object):\n",
    "    def __init__(self):\n",
    "        pass\n",
    "\n",
    "    def area(self):\n",
    "        return 0\n",
    "\n",
    "class Square(Shape):\n",
    "    def __init__(self, l):\n",
    "        Shape.__init__(self)\n",
    "        self.length = l\n",
    "\n",
    "    def area(self):\n",
    "        return self.length*self.length\n",
    "\n",
    "objsq= Square(4)\n",
    "print('area of shape:',objsq.area())"
   ]
  },
  {
   "cell_type": "code",
   "execution_count": null,
   "id": "aba81fff",
   "metadata": {},
   "outputs": [],
   "source": []
  }
 ],
 "metadata": {
  "kernelspec": {
   "display_name": "Python 3 (ipykernel)",
   "language": "python",
   "name": "python3"
  },
  "language_info": {
   "codemirror_mode": {
    "name": "ipython",
    "version": 3
   },
   "file_extension": ".py",
   "mimetype": "text/x-python",
   "name": "python",
   "nbconvert_exporter": "python",
   "pygments_lexer": "ipython3",
   "version": "3.9.12"
  }
 },
 "nbformat": 4,
 "nbformat_minor": 5
}
