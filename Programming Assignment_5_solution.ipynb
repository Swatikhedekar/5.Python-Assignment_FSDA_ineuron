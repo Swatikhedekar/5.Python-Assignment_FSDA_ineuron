{
 "cells": [
  {
   "cell_type": "markdown",
   "id": "4ac9602a",
   "metadata": {},
   "source": [
    "## Python Basic Programming Assignment - 5\n",
    "--------------\n"
   ]
  },
  {
   "cell_type": "markdown",
   "id": "fdaeee06",
   "metadata": {},
   "source": [
    "### 1. Write a Python Program to Find LCM?"
   ]
  },
  {
   "cell_type": "markdown",
   "id": "a063f8fe",
   "metadata": {},
   "source": [
    "- LCM of two numbers\n",
    "- The least common multiple is a number that will be perfectly divisible by both numbers.\n",
    "- For example, the LCM of 6 and 4 is 12. 12 is perfectly divisible by both 4 and 6 and is the smallest multiple to satisfy the condition. "
   ]
  },
  {
   "cell_type": "code",
   "execution_count": 20,
   "id": "7693bdc1",
   "metadata": {},
   "outputs": [
    {
     "name": "stdout",
     "output_type": "stream",
     "text": [
      "The L.C.M. is 12\n"
     ]
    }
   ],
   "source": [
    "num1 = 6\n",
    "num2 = 4\n",
    "def lcm_num(x,y):\n",
    "    if x > y:\n",
    "        greater = x\n",
    "    else:\n",
    "        greater = y\n",
    "\n",
    "    while(True):\n",
    "        if((greater % x == 0) and (greater % y == 0)):\n",
    "            lcm = greater\n",
    "            break\n",
    "        greater += 1\n",
    "\n",
    "    return lcm\n",
    "\n",
    "print(\"The L.C.M. is\", lcm_num(num1, num2))"
   ]
  },
  {
   "cell_type": "markdown",
   "id": "2f459cdf",
   "metadata": {},
   "source": [
    "### 2. Write a Python Program to Find HCF?"
   ]
  },
  {
   "cell_type": "markdown",
   "id": "4a5eabf8",
   "metadata": {},
   "source": [
    "- The highest common factor (H.C.F) or greatest common divisor (G.C.D) of two numbers is the largest positive integer that perfectly divides the two given numbers.\n",
    "- For example, the H.C.F of 12 and 14 is 2."
   ]
  },
  {
   "cell_type": "code",
   "execution_count": 21,
   "id": "3779e0ab",
   "metadata": {},
   "outputs": [
    {
     "name": "stdout",
     "output_type": "stream",
     "text": [
      "The H.C.F. is 2\n"
     ]
    }
   ],
   "source": [
    "num1 = 12\n",
    "num2 = 14\n",
    "def hcf(x, y):\n",
    "    \n",
    "    if x > y:\n",
    "        smaller = y\n",
    "    else:\n",
    "        smaller = x\n",
    "    for i in range(1, smaller+1):\n",
    "        if((x % i == 0) and (y % i == 0)):\n",
    "            hcf = i \n",
    "    return hcf\n",
    "\n",
    "print(\"The H.C.F. is\", hcf(num1, num2))"
   ]
  },
  {
   "cell_type": "markdown",
   "id": "d2c29370",
   "metadata": {},
   "source": [
    "### 3. Write a Python Program to Convert Decimal to Binary, Octal and Hexadecimal?"
   ]
  },
  {
   "cell_type": "markdown",
   "id": "dc60ce55",
   "metadata": {},
   "source": [
    "The decimal system is base 10 (ten symbols, 0-9, are used to represent a number) and similarly, binary is base 2, octal is base 8 and hexadecimal is base 16."
   ]
  },
  {
   "cell_type": "code",
   "execution_count": 22,
   "id": "f11b669c",
   "metadata": {},
   "outputs": [
    {
     "name": "stdout",
     "output_type": "stream",
     "text": [
      "The decimal value of 344 is:\n",
      "0b101011000 in binary.\n",
      "0o530 in octal.\n",
      "0x158 in hexadecimal.\n"
     ]
    }
   ],
   "source": [
    "dec = 344\n",
    "\n",
    "print(\"The decimal value of\", dec, \"is:\")\n",
    "print(bin(dec), \"in binary.\")\n",
    "print(oct(dec), \"in octal.\")\n",
    "print(hex(dec), \"in hexadecimal.\")"
   ]
  },
  {
   "cell_type": "markdown",
   "id": "2a16c5fd",
   "metadata": {},
   "source": [
    "### 4. Write a Python Program To Find ASCII value of a character?"
   ]
  },
  {
   "cell_type": "markdown",
   "id": "02d5382e",
   "metadata": {},
   "source": [
    "ASCII stands for American Standard Code for Information Interchange. It is a character encoding that uses numeric codes to represent characters and symbols such as upper and lowercase English letters, numbers, and punctuation symbols. Computer stores and manipulates letters and symbols using these codes.\n",
    "- The ord() method returns the ASCII value of a character passed as its argument. It is a built-in function in the Python library."
   ]
  },
  {
   "cell_type": "code",
   "execution_count": 23,
   "id": "cfb053d5",
   "metadata": {},
   "outputs": [
    {
     "name": "stdout",
     "output_type": "stream",
     "text": [
      "Enter any num:%\n",
      "The ASCII value of given num is 37\n"
     ]
    }
   ],
   "source": [
    "char = input(\"Enter any num:\")\n",
    "ascii_value = ord(char)\n",
    "print('The ASCII value of given num is',ascii_value)"
   ]
  },
  {
   "cell_type": "code",
   "execution_count": 24,
   "id": "4b2d51aa",
   "metadata": {},
   "outputs": [
    {
     "name": "stdout",
     "output_type": "stream",
     "text": [
      "Enter any num:^\n",
      "The ASCII value of given num is 94\n"
     ]
    }
   ],
   "source": [
    "char = input(\"Enter any num:\")\n",
    "ascii_value = ord(char)\n",
    "print('The ASCII value of given num is',ascii_value)"
   ]
  },
  {
   "cell_type": "markdown",
   "id": "226778a0",
   "metadata": {},
   "source": [
    "### 5. Write a Python Program to Make a Simple Calculator with 4 basic mathematical operations?"
   ]
  },
  {
   "cell_type": "code",
   "execution_count": 25,
   "id": "994cc5d2",
   "metadata": {},
   "outputs": [
    {
     "name": "stdout",
     "output_type": "stream",
     "text": [
      "Enter first number: 45\n",
      "Enter second number: 5\n",
      "Addition of number: 50\n",
      "Subtraction of number: 40\n",
      "Multiplication of number: 225\n",
      "division of number: 9.0\n"
     ]
    }
   ],
   "source": [
    "# To Make a Simple Calculator with 4 basic mathematical operations\n",
    "num1 = int(input('Enter first number: '))\n",
    "num2 = int(input('Enter second number: '))\n",
    "\n",
    "addition = num1+num2\n",
    "subtraction = num1-num2\n",
    "mult = num1*num2\n",
    "div = num1/num2\n",
    "\n",
    "print('Addition of number:',addition)\n",
    "print('Subtraction of number:',subtraction)\n",
    "print('Multiplication of number:',mult)\n",
    "print('division of number:',div)"
   ]
  },
  {
   "cell_type": "code",
   "execution_count": null,
   "id": "ac6ab5a9",
   "metadata": {},
   "outputs": [],
   "source": []
  }
 ],
 "metadata": {
  "kernelspec": {
   "display_name": "Python 3 (ipykernel)",
   "language": "python",
   "name": "python3"
  },
  "language_info": {
   "codemirror_mode": {
    "name": "ipython",
    "version": 3
   },
   "file_extension": ".py",
   "mimetype": "text/x-python",
   "name": "python",
   "nbconvert_exporter": "python",
   "pygments_lexer": "ipython3",
   "version": "3.9.12"
  }
 },
 "nbformat": 4,
 "nbformat_minor": 5
}
