{
 "cells": [
  {
   "cell_type": "markdown",
   "id": "84a41a9f",
   "metadata": {},
   "source": [
    "# Programming Basic Assignment 6"
   ]
  },
  {
   "cell_type": "markdown",
   "id": "a4b40558",
   "metadata": {},
   "source": [
    "### 1. Write a Python Program to Display Fibonacci Sequence Using Recursion?"
   ]
  },
  {
   "cell_type": "markdown",
   "id": "d5e7269e",
   "metadata": {},
   "source": [
    "- The **Fibonacci sequence** is a type series where each number is the sum of the two that precede it. \n",
    "- It starts from 0 and 1 usually. \n",
    "- The Fibonacci sequence is given by 0, 1, 1, 2, 3, 5, 8, 13, 21, 34, 55, 89, 144, and so on. "
   ]
  },
  {
   "cell_type": "code",
   "execution_count": 24,
   "id": "bf373070",
   "metadata": {},
   "outputs": [
    {
     "name": "stdout",
     "output_type": "stream",
     "text": [
      "Enter  a number:4\n",
      "0\n",
      "1\n",
      "1\n",
      "2\n"
     ]
    }
   ],
   "source": [
    "num= int(input('Enter  a number:'))\n",
    "\n",
    "num1 = 0\n",
    "num2 = 1\n",
    "\n",
    "for n in range(0,num):\n",
    "    if n<= 1:\n",
    "        next_num = n\n",
    "    else:\n",
    "        next_num= num1 + num2\n",
    "        num1 = num2\n",
    "        num2 = next_num\n",
    "    print(next_num)"
   ]
  },
  {
   "cell_type": "markdown",
   "id": "d7a57f60",
   "metadata": {},
   "source": [
    "### 2. Write a Python Program to Find Factorial of Number Using Recursion?"
   ]
  },
  {
   "cell_type": "code",
   "execution_count": 25,
   "id": "257688c0",
   "metadata": {},
   "outputs": [
    {
     "name": "stdout",
     "output_type": "stream",
     "text": [
      "Enter a number:4\n",
      "Factorial of number: 24\n"
     ]
    }
   ],
   "source": [
    "num= int(input('Enter a number:'))\n",
    "def factorial(n):\n",
    "    if (n==1 or n==0):\n",
    "        return 1\n",
    "    else:\n",
    "        return(n * factorial(n - 1))\n",
    "    \n",
    "print('Factorial of number:',factorial(num))\n"
   ]
  },
  {
   "cell_type": "markdown",
   "id": "0357b86f",
   "metadata": {},
   "source": [
    "### 3. Write a Python Program to calculate your Body Mass Index?"
   ]
  },
  {
   "cell_type": "markdown",
   "id": "a6aeb4ed",
   "metadata": {},
   "source": [
    "- The Body Mass Index (BMI) or Quetelet index is a value derived from the mass (weight) and height of an individual, male or female. \n",
    "- The BMI is defined as the body mass divided by the square of the body height and is universally expressed in units of kg/m2, resulting from the mass in kilograms and height in meters. The formula is: \n",
    " \n",
    "\n",
    "BMI = (mass or weight)/(height*height) kg/m2"
   ]
  },
  {
   "cell_type": "code",
   "execution_count": 26,
   "id": "daaef42a",
   "metadata": {},
   "outputs": [
    {
     "name": "stdout",
     "output_type": "stream",
     "text": [
      "Enter your height(m): 1.9\n",
      "Enter your weight(kg): 55\n",
      "Body mass index is 15.235457063711912 kg/m2\n"
     ]
    }
   ],
   "source": [
    "ht = float(input('Enter your height(m): '))\n",
    "wt = float(input('Enter your weight(kg): '))\n",
    "BMI = wt/(ht*ht)\n",
    "\n",
    "print('Body mass index is', BMI, 'kg/m2')"
   ]
  },
  {
   "cell_type": "markdown",
   "id": "96d344a4",
   "metadata": {},
   "source": [
    "### 4. Write a Python Program to calculate the natural logarithm of any number?"
   ]
  },
  {
   "cell_type": "markdown",
   "id": "bd01007c",
   "metadata": {},
   "source": [
    "- It is the logarithm to the base of the irrational and transcendental number e, approximately equal to 2.718281828459. \n",
    "- It is represented by ln().\n",
    "\n",
    "* There are two methods of getting a natural log in Python. \n",
    "    - One is by using NumPy\n",
    "    - math method.\n",
    "- NumPy method also contributes to finding the natural log of any number or value in Python programming. \n",
    "- The users can find the natural log x where x is any number that the users give with the help of the **np.log()** function."
   ]
  },
  {
   "cell_type": "code",
   "execution_count": 27,
   "id": "5f63dee8",
   "metadata": {},
   "outputs": [],
   "source": [
    "#One is by using NumPy\n",
    "#import numpy\n",
    "import numpy as np"
   ]
  },
  {
   "cell_type": "code",
   "execution_count": 28,
   "id": "1598407f",
   "metadata": {},
   "outputs": [
    {
     "data": {
      "text/plain": [
       "[1, 2, 3, 4, 5, 6]"
      ]
     },
     "execution_count": 28,
     "metadata": {},
     "output_type": "execute_result"
    }
   ],
   "source": [
    "array = [1,2,3,4,5,6]\n",
    "array"
   ]
  },
  {
   "cell_type": "code",
   "execution_count": 29,
   "id": "492c33b2",
   "metadata": {},
   "outputs": [
    {
     "data": {
      "text/plain": [
       "array([0.        , 0.69314718, 1.09861229, 1.38629436, 1.60943791,\n",
       "       1.79175947])"
      ]
     },
     "execution_count": 29,
     "metadata": {},
     "output_type": "execute_result"
    }
   ],
   "source": [
    "ex_array = np.log(array)\n",
    "ex_array"
   ]
  },
  {
   "cell_type": "markdown",
   "id": "11c0d92c",
   "metadata": {},
   "source": [
    "\n",
    "### 5. Write a Python Program for cube sum of first n natural numbers?\n"
   ]
  },
  {
   "cell_type": "markdown",
   "id": "cafa91fd",
   "metadata": {},
   "source": [
    "Print the cube sum of series 1^3 + 2^3 + 3^3 + 4^3 + …….+ n^3 till n-th term"
   ]
  },
  {
   "cell_type": "code",
   "execution_count": 30,
   "id": "7a05886d",
   "metadata": {},
   "outputs": [
    {
     "name": "stdout",
     "output_type": "stream",
     "text": [
      "cube sum of num is 225\n"
     ]
    }
   ],
   "source": [
    "n=5\n",
    "s=0\n",
    "\n",
    "for i in range(1,n+1):\n",
    "    s=s+pow(i,3)\n",
    "print('cube sum of num is',s)"
   ]
  },
  {
   "cell_type": "code",
   "execution_count": null,
   "id": "10d4916e",
   "metadata": {},
   "outputs": [],
   "source": []
  }
 ],
 "metadata": {
  "kernelspec": {
   "display_name": "Python 3 (ipykernel)",
   "language": "python",
   "name": "python3"
  },
  "language_info": {
   "codemirror_mode": {
    "name": "ipython",
    "version": 3
   },
   "file_extension": ".py",
   "mimetype": "text/x-python",
   "name": "python",
   "nbconvert_exporter": "python",
   "pygments_lexer": "ipython3",
   "version": "3.9.12"
  }
 },
 "nbformat": 4,
 "nbformat_minor": 5
}
