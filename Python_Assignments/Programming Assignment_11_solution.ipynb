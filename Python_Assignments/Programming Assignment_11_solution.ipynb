{
 "cells": [
  {
   "cell_type": "markdown",
   "id": "53c7e882",
   "metadata": {},
   "source": [
    "# Python Basic Programming Assignment 11_solution\n",
    "--------------------"
   ]
  },
  {
   "cell_type": "markdown",
   "id": "051da140",
   "metadata": {},
   "source": [
    "### 1. Write a Python program to find words which are greater than given length k?"
   ]
  },
  {
   "cell_type": "code",
   "execution_count": 2,
   "id": "c2180fe4",
   "metadata": {},
   "outputs": [
    {
     "data": {
      "text/plain": [
       "'Python is a very good programming langguage.'"
      ]
     },
     "execution_count": 2,
     "metadata": {},
     "output_type": "execute_result"
    }
   ],
   "source": [
    "statement = \"Python is a very good programming langguage.\"\n",
    "statement"
   ]
  },
  {
   "cell_type": "code",
   "execution_count": 3,
   "id": "3ed13136",
   "metadata": {},
   "outputs": [
    {
     "name": "stdout",
     "output_type": "stream",
     "text": [
      "['Python', 'programming', 'langguage.']\n"
     ]
    }
   ],
   "source": [
    "# get words having lenth=k=4\n",
    "k = 4\n",
    "words = [word for word in statement.split() if len(word) > k]\n",
    "print(words)"
   ]
  },
  {
   "cell_type": "markdown",
   "id": "26719cbd",
   "metadata": {},
   "source": [
    "### 2. Write a Python program for removing i-th character from a string?"
   ]
  },
  {
   "cell_type": "code",
   "execution_count": 4,
   "id": "8de7ee90",
   "metadata": {},
   "outputs": [
    {
     "name": "stdout",
     "output_type": "stream",
     "text": [
      "learning\n"
     ]
    }
   ],
   "source": [
    "str1 = 'learning'\n",
    "print(str1) "
   ]
  },
  {
   "cell_type": "code",
   "execution_count": 5,
   "id": "d594a405",
   "metadata": {},
   "outputs": [
    {
     "name": "stdout",
     "output_type": "stream",
     "text": [
      "The string after removal of i'th character : leaning\n"
     ]
    }
   ],
   "source": [
    " # Removing char at pos 4=r\n",
    "new_str = \"\"\n",
    " \n",
    "for i in range(len(str1)):\n",
    "    if i != 3:\n",
    "        new_str = new_str + str1[i]\n",
    "\n",
    "# Printing string after removal\n",
    "print (\"The string after removal of i'th character : \" + new_str)"
   ]
  },
  {
   "cell_type": "markdown",
   "id": "51ae6b0f",
   "metadata": {},
   "source": [
    "### 3. Write a Python program to split and join a string?"
   ]
  },
  {
   "cell_type": "code",
   "execution_count": 6,
   "id": "5bb3824f",
   "metadata": {},
   "outputs": [
    {
     "data": {
      "text/plain": [
       "'powerBI is a tool of data sceince.'"
      ]
     },
     "execution_count": 6,
     "metadata": {},
     "output_type": "execute_result"
    }
   ],
   "source": [
    "s = 'powerBI is a tool of data sceince.'\n",
    "s"
   ]
  },
  {
   "cell_type": "code",
   "execution_count": 7,
   "id": "8dcd71b6",
   "metadata": {},
   "outputs": [
    {
     "data": {
      "text/plain": [
       "str"
      ]
     },
     "execution_count": 7,
     "metadata": {},
     "output_type": "execute_result"
    }
   ],
   "source": [
    "type(s)"
   ]
  },
  {
   "cell_type": "code",
   "execution_count": 8,
   "id": "b1b35c11",
   "metadata": {},
   "outputs": [
    {
     "data": {
      "text/plain": [
       "['powerBI', 'is', 'a', 'tool', 'of', 'data', 'sceince.']"
      ]
     },
     "execution_count": 8,
     "metadata": {},
     "output_type": "execute_result"
    }
   ],
   "source": [
    "#split\n",
    "s.split()"
   ]
  },
  {
   "cell_type": "code",
   "execution_count": 9,
   "id": "ecedbae7",
   "metadata": {},
   "outputs": [
    {
     "data": {
      "text/plain": [
       "'powerBI_is_a_tool_of_data_sceince.'"
      ]
     },
     "execution_count": 9,
     "metadata": {},
     "output_type": "execute_result"
    }
   ],
   "source": [
    "#join with \"_\" \n",
    "'_'.join(s.split())"
   ]
  },
  {
   "cell_type": "markdown",
   "id": "59079fe1",
   "metadata": {},
   "source": [
    "### 4. Write a Python to check if a given string is binary string or not?"
   ]
  },
  {
   "cell_type": "code",
   "execution_count": 12,
   "id": "ca3e0980",
   "metadata": {},
   "outputs": [
    {
     "name": "stdout",
     "output_type": "stream",
     "text": [
      "Enter a binary number: 10101101\n",
      "Yes\n"
     ]
    }
   ],
   "source": [
    "num = str(input('Enter a binary number: '))\n",
    "def check(num):\n",
    "    p = set(num)\n",
    "    s = {'0','1'}\n",
    "    if s == p or p == {'0'} or p == {'1'}:\n",
    "        print('Yes')\n",
    "    else:\n",
    "        print('No')\n",
    "check(num)       "
   ]
  },
  {
   "cell_type": "markdown",
   "id": "4d6cf11a",
   "metadata": {},
   "source": [
    "### 5. Write a Python program to find uncommon words from two Strings?"
   ]
  },
  {
   "cell_type": "code",
   "execution_count": 13,
   "id": "85b9aa1f",
   "metadata": {},
   "outputs": [],
   "source": [
    "s1 = 'hello good morning sun'\n",
    "s2 = 'hello good night moon'"
   ]
  },
  {
   "cell_type": "code",
   "execution_count": 14,
   "id": "9cdf009d",
   "metadata": {},
   "outputs": [
    {
     "name": "stdout",
     "output_type": "stream",
     "text": [
      "{'morning', 'hello', 'good', 'sun'}\n",
      "{'night', 'moon', 'hello', 'good'}\n"
     ]
    }
   ],
   "source": [
    "A = set(s1.split())\n",
    "B = set(s2.split())\n",
    "print(A)\n",
    "print(B)"
   ]
  },
  {
   "cell_type": "code",
   "execution_count": 15,
   "id": "86bcc01e",
   "metadata": {},
   "outputs": [
    {
     "data": {
      "text/plain": [
       "{'morning', 'sun'}"
      ]
     },
     "execution_count": 15,
     "metadata": {},
     "output_type": "execute_result"
    }
   ],
   "source": [
    "#uncommon in A\n",
    "A.difference(B)"
   ]
  },
  {
   "cell_type": "code",
   "execution_count": 16,
   "id": "eb7c1751",
   "metadata": {},
   "outputs": [
    {
     "data": {
      "text/plain": [
       "{'moon', 'night'}"
      ]
     },
     "execution_count": 16,
     "metadata": {},
     "output_type": "execute_result"
    }
   ],
   "source": [
    "#uncommon in B\n",
    "\n",
    "B.difference(A)"
   ]
  },
  {
   "cell_type": "code",
   "execution_count": 17,
   "id": "7a3fac14",
   "metadata": {},
   "outputs": [
    {
     "name": "stdout",
     "output_type": "stream",
     "text": [
      "uncommon words in two string {'morning', 'night', 'sun', 'moon'}\n"
     ]
    }
   ],
   "source": [
    "#combine both using union\n",
    "uncommon = A.difference(B).union(B.difference(A))\n",
    "print('uncommon words in two string',uncommon)"
   ]
  },
  {
   "cell_type": "markdown",
   "id": "e2b24677",
   "metadata": {},
   "source": [
    "### 6. Write a Python to find all duplicate characters in string?"
   ]
  },
  {
   "cell_type": "code",
   "execution_count": 18,
   "id": "388a995d",
   "metadata": {},
   "outputs": [
    {
     "data": {
      "text/plain": [
       "'Hellomoon'"
      ]
     },
     "execution_count": 18,
     "metadata": {},
     "output_type": "execute_result"
    }
   ],
   "source": [
    "s = 'Hellomoon'\n",
    "s"
   ]
  },
  {
   "cell_type": "code",
   "execution_count": 19,
   "id": "7970668e",
   "metadata": {},
   "outputs": [
    {
     "name": "stdout",
     "output_type": "stream",
     "text": [
      "['l']\n",
      "['l', 'o']\n"
     ]
    }
   ],
   "source": [
    "#duplicate characters using \n",
    "dup=[]\n",
    "for i in s:\n",
    "    if i not in dup and s.count(i)>1:\n",
    "        dup.append(i)\n",
    "        print(dup)"
   ]
  },
  {
   "cell_type": "markdown",
   "id": "1a6af7e4",
   "metadata": {},
   "source": [
    "### 7. Write a Python Program to check if a string contains any special character?"
   ]
  },
  {
   "cell_type": "markdown",
   "id": "26d62cdb",
   "metadata": {},
   "source": [
    "- string punctuation are consider as special character"
   ]
  },
  {
   "cell_type": "code",
   "execution_count": 20,
   "id": "9196d311",
   "metadata": {},
   "outputs": [],
   "source": [
    "import string"
   ]
  },
  {
   "cell_type": "code",
   "execution_count": 21,
   "id": "f82bdc9d",
   "metadata": {},
   "outputs": [
    {
     "data": {
      "text/plain": [
       "'!\"#$%&\\'()*+,-./:;<=>?@[\\\\]^_`{|}~'"
      ]
     },
     "execution_count": 21,
     "metadata": {},
     "output_type": "execute_result"
    }
   ],
   "source": [
    "s = string.punctuation\n",
    "s"
   ]
  },
  {
   "cell_type": "code",
   "execution_count": 22,
   "id": "1e421bb6",
   "metadata": {},
   "outputs": [
    {
     "data": {
      "text/plain": [
       "'Python< is! a@ programming# &language'"
      ]
     },
     "execution_count": 22,
     "metadata": {},
     "output_type": "execute_result"
    }
   ],
   "source": [
    "str1 = 'Python< is! a@ programming# &language'\n",
    "str1"
   ]
  },
  {
   "cell_type": "code",
   "execution_count": 23,
   "id": "c5bdc2f1",
   "metadata": {},
   "outputs": [
    {
     "name": "stdout",
     "output_type": "stream",
     "text": [
      "yes\n"
     ]
    }
   ],
   "source": [
    "if any(i in s for i in str1):\n",
    "    print(\"yes\")\n",
    "else:\n",
    "    print(\"no\")\n",
    " "
   ]
  },
  {
   "cell_type": "code",
   "execution_count": null,
   "id": "77b0f45f",
   "metadata": {},
   "outputs": [],
   "source": []
  }
 ],
 "metadata": {
  "kernelspec": {
   "display_name": "Python 3 (ipykernel)",
   "language": "python",
   "name": "python3"
  },
  "language_info": {
   "codemirror_mode": {
    "name": "ipython",
    "version": 3
   },
   "file_extension": ".py",
   "mimetype": "text/x-python",
   "name": "python",
   "nbconvert_exporter": "python",
   "pygments_lexer": "ipython3",
   "version": "3.9.12"
  }
 },
 "nbformat": 4,
 "nbformat_minor": 5
}
