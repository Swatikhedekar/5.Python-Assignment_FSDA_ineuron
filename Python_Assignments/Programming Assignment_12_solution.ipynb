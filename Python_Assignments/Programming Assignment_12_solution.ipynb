{
 "cells": [
  {
   "cell_type": "markdown",
   "id": "b7231b20",
   "metadata": {},
   "source": [
    "# Python Basic Programming Assignment 12_solution\n",
    "-------------"
   ]
  },
  {
   "cell_type": "markdown",
   "id": "d2ec324d",
   "metadata": {},
   "source": [
    "### 1. Write a Python program to Extract Unique values dictionary values?"
   ]
  },
  {
   "cell_type": "code",
   "execution_count": 3,
   "id": "cd0f2a26",
   "metadata": {},
   "outputs": [
    {
     "data": {
      "text/plain": [
       "{'a': 12, 'b': 11, 'c': 2, 'd': 12}"
      ]
     },
     "execution_count": 3,
     "metadata": {},
     "output_type": "execute_result"
    }
   ],
   "source": [
    "d1 = {'a':12,'b':11,'c':2,'d':12}\n",
    "d1"
   ]
  },
  {
   "cell_type": "code",
   "execution_count": 4,
   "id": "8e56abd2",
   "metadata": {},
   "outputs": [
    {
     "data": {
      "text/plain": [
       "dict_values([12, 11, 2, 12])"
      ]
     },
     "execution_count": 4,
     "metadata": {},
     "output_type": "execute_result"
    }
   ],
   "source": [
    "d1.values()"
   ]
  },
  {
   "cell_type": "markdown",
   "id": "7e20553a",
   "metadata": {},
   "source": [
    "-  by using set we get unique elements"
   ]
  },
  {
   "cell_type": "code",
   "execution_count": 5,
   "id": "4496f4c9",
   "metadata": {},
   "outputs": [
    {
     "data": {
      "text/plain": [
       "{2, 11, 12}"
      ]
     },
     "execution_count": 5,
     "metadata": {},
     "output_type": "execute_result"
    }
   ],
   "source": [
    "set(d1.values())"
   ]
  },
  {
   "cell_type": "code",
   "execution_count": 6,
   "id": "a51e5ae4",
   "metadata": {},
   "outputs": [
    {
     "name": "stdout",
     "output_type": "stream",
     "text": [
      "Unique values in dictionary: {2, 11, 12}\n"
     ]
    }
   ],
   "source": [
    "\n",
    "unique = set(d1.values())\n",
    "print('Unique values in dictionary:',unique)"
   ]
  },
  {
   "cell_type": "markdown",
   "id": "203bcbc3",
   "metadata": {},
   "source": [
    "### 2. Write a Python program to find the sum of all items in a dictionary?"
   ]
  },
  {
   "cell_type": "code",
   "execution_count": 7,
   "id": "d2e5fbec",
   "metadata": {},
   "outputs": [
    {
     "data": {
      "text/plain": [
       "{'a': 12, 'b': 11, 'c': 2, 'd': 12}"
      ]
     },
     "execution_count": 7,
     "metadata": {},
     "output_type": "execute_result"
    }
   ],
   "source": [
    "d1"
   ]
  },
  {
   "cell_type": "code",
   "execution_count": 8,
   "id": "75a86c52",
   "metadata": {},
   "outputs": [
    {
     "name": "stdout",
     "output_type": "stream",
     "text": [
      "sum of all items: 37\n"
     ]
    }
   ],
   "source": [
    "sum = 0\n",
    "for item in d1.values():\n",
    "    sum = sum + item\n",
    "print('sum of all items:',sum)"
   ]
  },
  {
   "cell_type": "markdown",
   "id": "edfbc682",
   "metadata": {},
   "source": [
    "### 3. Write a Python program to Merging two Dictionaries?"
   ]
  },
  {
   "cell_type": "code",
   "execution_count": 9,
   "id": "0715810b",
   "metadata": {},
   "outputs": [
    {
     "name": "stdout",
     "output_type": "stream",
     "text": [
      "{'a': 12, 'b': 11, 'c': 2, 'd': 12}\n",
      "{'p': 22, 'q': 23, 'r': 1, 't': 4}\n"
     ]
    }
   ],
   "source": [
    "d1 = {'a':12,'b':11,'c':2,'d':12}\n",
    "d2 = {'p':22,'q':23,'r':1,'t':4}\n",
    "print(d1)\n",
    "print(d2)"
   ]
  },
  {
   "cell_type": "code",
   "execution_count": 10,
   "id": "0fa0638a",
   "metadata": {},
   "outputs": [
    {
     "name": "stdout",
     "output_type": "stream",
     "text": [
      "Merged dictionary: {'a': 12, 'b': 11, 'c': 2, 'd': 12, 'p': 22, 'q': 23, 'r': 1, 't': 4}\n"
     ]
    }
   ],
   "source": [
    "# for merging dictionary using update\n",
    "# d1 get update,d2 as it is\n",
    "d1.update(d2)\n",
    "\n",
    "print('Merged dictionary:',d1)\n"
   ]
  },
  {
   "cell_type": "markdown",
   "id": "62eaf687",
   "metadata": {},
   "source": [
    "### 4. Write a Python program to convert key-values list to flat dictionary?"
   ]
  },
  {
   "cell_type": "code",
   "execution_count": 11,
   "id": "9ce6bc3e",
   "metadata": {},
   "outputs": [
    {
     "name": "stdout",
     "output_type": "stream",
     "text": [
      "{'sub': [1, 2, 3, 4, 5], 'name': ['math', 'che', 'eng', 'phy', 'geo']}\n"
     ]
    }
   ],
   "source": [
    "test = {'sub':[1,2,3,4,5],\n",
    "       'name':['math','che','eng','phy','geo']}\n",
    "\n",
    "print(test)"
   ]
  },
  {
   "cell_type": "code",
   "execution_count": 12,
   "id": "e25f1e74",
   "metadata": {},
   "outputs": [
    {
     "data": {
      "text/plain": [
       "[1, 2, 3, 4, 5]"
      ]
     },
     "execution_count": 12,
     "metadata": {},
     "output_type": "execute_result"
    }
   ],
   "source": [
    "test['sub']"
   ]
  },
  {
   "cell_type": "code",
   "execution_count": 13,
   "id": "0c0ede0d",
   "metadata": {},
   "outputs": [
    {
     "data": {
      "text/plain": [
       "5"
      ]
     },
     "execution_count": 13,
     "metadata": {},
     "output_type": "execute_result"
    }
   ],
   "source": [
    "len(test['sub'])"
   ]
  },
  {
   "cell_type": "code",
   "execution_count": 14,
   "id": "b98a61c4",
   "metadata": {},
   "outputs": [
    {
     "data": {
      "text/plain": [
       "range(0, 5)"
      ]
     },
     "execution_count": 14,
     "metadata": {},
     "output_type": "execute_result"
    }
   ],
   "source": [
    "range(len(test['sub']))"
   ]
  },
  {
   "cell_type": "code",
   "execution_count": 15,
   "id": "447ce3b7",
   "metadata": {},
   "outputs": [
    {
     "name": "stdout",
     "output_type": "stream",
     "text": [
      "Flat dictionary: {1: 'math', 2: 'che', 3: 'eng', 4: 'phy', 5: 'geo'}\n"
     ]
    }
   ],
   "source": [
    "# to flatten dictionary\n",
    "flat = {}\n",
    "for i in range(len(test['sub'])):\n",
    "    flat[test['sub'][i]] = test['name'][i]\n",
    "print(\"Flat dictionary:\",(flat))\n",
    "\n",
    "    "
   ]
  },
  {
   "cell_type": "markdown",
   "id": "fcc5015f",
   "metadata": {},
   "source": [
    "### 5. Write a Python program to insertion at the beginning in OrderedDict?"
   ]
  },
  {
   "cell_type": "code",
   "execution_count": 16,
   "id": "61bb40e6",
   "metadata": {},
   "outputs": [],
   "source": [
    "from collections import OrderedDict\n"
   ]
  },
  {
   "cell_type": "code",
   "execution_count": 17,
   "id": "62542681",
   "metadata": {},
   "outputs": [
    {
     "data": {
      "text/plain": [
       "{'BE': 4, 'BCS': 3, 'MS': 2, 'Mtech': 2}"
      ]
     },
     "execution_count": 17,
     "metadata": {},
     "output_type": "execute_result"
    }
   ],
   "source": [
    "degrees = {'BE':4,'BCS':3,'MS':2,'Mtech':2}\n",
    "degrees"
   ]
  },
  {
   "cell_type": "code",
   "execution_count": 18,
   "id": "54064f81",
   "metadata": {},
   "outputs": [
    {
     "name": "stdout",
     "output_type": "stream",
     "text": [
      "{'BE': 4, 'BCS': 3, 'MS': 2, 'Mtech': 2, 'MBA': 2}\n"
     ]
    }
   ],
   "source": [
    "# add 'MBA':2 at beginning\n",
    "degrees.update({'MBA':2})\n",
    "print(degrees)"
   ]
  },
  {
   "cell_type": "code",
   "execution_count": 19,
   "id": "0f0f843a",
   "metadata": {},
   "outputs": [
    {
     "data": {
      "text/plain": [
       "OrderedDict([('BE', '4'), ('BCS', '3'), ('MS', '2'), ('Mtech', '2')])"
      ]
     },
     "execution_count": 19,
     "metadata": {},
     "output_type": "execute_result"
    }
   ],
   "source": [
    "degrees  = OrderedDict([('BE','4'),('BCS','3'),('MS','2'),('Mtech','2')])\n",
    "degrees"
   ]
  },
  {
   "cell_type": "code",
   "execution_count": 20,
   "id": "2e5b271a",
   "metadata": {},
   "outputs": [
    {
     "name": "stdout",
     "output_type": "stream",
     "text": [
      "OrderedDict([('BE', '4'), ('BCS', '3'), ('MS', '2'), ('Mtech', '2'), ('MBA', 2)])\n"
     ]
    }
   ],
   "source": [
    "# 1.by move_to_end method\n",
    "degrees.update({'MBA':2})\n",
    "print(degrees)"
   ]
  },
  {
   "cell_type": "code",
   "execution_count": 21,
   "id": "f9472693",
   "metadata": {},
   "outputs": [
    {
     "name": "stdout",
     "output_type": "stream",
     "text": [
      "OrderedDict([('MBA', 2), ('BE', '4'), ('BCS', '3'), ('MS', '2'), ('Mtech', '2')])\n"
     ]
    }
   ],
   "source": [
    "degrees.move_to_end('MBA',last=False)\n",
    "print(degrees)"
   ]
  },
  {
   "cell_type": "code",
   "execution_count": 22,
   "id": "2e6cffe3",
   "metadata": {},
   "outputs": [],
   "source": [
    "# 2. by concatenation\n",
    "degrees  = OrderedDict([('BE','4'),('BCS','3'),('MS','2'),('Mtech','2')])\n",
    "\n",
    "d1 = OrderedDict([('MBA','2')])\n"
   ]
  },
  {
   "cell_type": "code",
   "execution_count": 23,
   "id": "3f1140aa",
   "metadata": {},
   "outputs": [
    {
     "name": "stdout",
     "output_type": "stream",
     "text": [
      "OrderedDict([('BE', '4'), ('BCS', '3'), ('MS', '2'), ('Mtech', '2')])\n",
      "OrderedDict([('MBA', '2')])\n"
     ]
    }
   ],
   "source": [
    "print(degrees)\n",
    "print(d1)"
   ]
  },
  {
   "cell_type": "code",
   "execution_count": 24,
   "id": "1e58dba3",
   "metadata": {},
   "outputs": [
    {
     "name": "stdout",
     "output_type": "stream",
     "text": [
      "OrderedDict([('MBA', '2'), ('BE', '4'), ('BCS', '3'), ('MS', '2'), ('Mtech', '2')])\n"
     ]
    }
   ],
   "source": [
    "final = OrderedDict(list(d1.items()) + list(degrees.items()))\n",
    "print(final)"
   ]
  },
  {
   "cell_type": "markdown",
   "id": "5978c9ab",
   "metadata": {},
   "source": [
    "### 6. Write a Python program to check order of character in string using OrderedDict()?"
   ]
  },
  {
   "cell_type": "code",
   "execution_count": 25,
   "id": "d79e933f",
   "metadata": {},
   "outputs": [],
   "source": [
    "from collections import OrderedDict \n"
   ]
  },
  {
   "cell_type": "code",
   "execution_count": 26,
   "id": "02b24d2f",
   "metadata": {},
   "outputs": [
    {
     "data": {
      "text/plain": [
       "'getting start with python'"
      ]
     },
     "execution_count": 26,
     "metadata": {},
     "output_type": "execute_result"
    }
   ],
   "source": [
    "s = \"getting start with python\"\n",
    "s"
   ]
  },
  {
   "cell_type": "code",
   "execution_count": 27,
   "id": "49635982",
   "metadata": {},
   "outputs": [
    {
     "name": "stdout",
     "output_type": "stream",
     "text": [
      "True\n"
     ]
    }
   ],
   "source": [
    "s = \"getting start with python\"\n",
    "pattern = 'th'\n",
    "def checkOrder(s, pattern): \n",
    "    dic = OrderedDict.fromkeys(s) \n",
    "    ptr = 0\n",
    "    for key,value in dic.items(): \n",
    "        if (key == pattern[ptr]): \n",
    "            ptr = ptr + 1\n",
    "        if (ptr == (len(pattern))): \n",
    "            return 'True'\n",
    "    return 'False'\n",
    "print (checkOrder(s,pattern))\n"
   ]
  },
  {
   "cell_type": "code",
   "execution_count": 28,
   "id": "0e564cb3",
   "metadata": {},
   "outputs": [
    {
     "name": "stdout",
     "output_type": "stream",
     "text": [
      "False\n"
     ]
    }
   ],
   "source": [
    "s1 = \"good night\"\n",
    "\n",
    "pattern = 'th'\n",
    "def checkOrder(s1, pattern): \n",
    "    dic = OrderedDict.fromkeys(s1) \n",
    "    ptr = 0\n",
    "    for key,value in dic.items(): \n",
    "        if (key == pattern[ptr]): \n",
    "            ptr = ptr + 1\n",
    "        if (ptr == (len(pattern))): \n",
    "            return 'True'\n",
    "    return 'False'\n",
    "print (checkOrder(s1,pattern))"
   ]
  },
  {
   "cell_type": "markdown",
   "id": "f330da77",
   "metadata": {},
   "source": [
    "### 7. Write a Python program to sort Python Dictionaries by Key or Value?"
   ]
  },
  {
   "cell_type": "code",
   "execution_count": 29,
   "id": "2268bc76",
   "metadata": {},
   "outputs": [
    {
     "data": {
      "text/plain": [
       "{'Flower': 3, 'Fruit': 4, 'Baloon': 5, 'Chocholate': 1}"
      ]
     },
     "execution_count": 29,
     "metadata": {},
     "output_type": "execute_result"
    }
   ],
   "source": [
    "counts = {'Flower':3,'Fruit':4,'Baloon':5,'Chocholate':1}\n",
    "counts"
   ]
  },
  {
   "cell_type": "code",
   "execution_count": 30,
   "id": "b6866678",
   "metadata": {},
   "outputs": [
    {
     "data": {
      "text/plain": [
       "dict_keys(['Flower', 'Fruit', 'Baloon', 'Chocholate'])"
      ]
     },
     "execution_count": 30,
     "metadata": {},
     "output_type": "execute_result"
    }
   ],
   "source": [
    "#sort\n",
    "counts.keys()"
   ]
  },
  {
   "cell_type": "code",
   "execution_count": 31,
   "id": "cbb741c6",
   "metadata": {},
   "outputs": [
    {
     "data": {
      "text/plain": [
       "dict_values([3, 4, 5, 1])"
      ]
     },
     "execution_count": 31,
     "metadata": {},
     "output_type": "execute_result"
    }
   ],
   "source": [
    "counts.values()"
   ]
  },
  {
   "cell_type": "code",
   "execution_count": 32,
   "id": "3c76930d",
   "metadata": {},
   "outputs": [
    {
     "name": "stdout",
     "output_type": "stream",
     "text": [
      "dict_keys(['Flower', 'Fruit', 'Baloon', 'Chocholate'])\n"
     ]
    }
   ],
   "source": [
    "#create list of keys\n",
    "list1 = list(counts.keys())\n",
    "print(counts.keys())"
   ]
  },
  {
   "cell_type": "code",
   "execution_count": 33,
   "id": "8c073b37",
   "metadata": {},
   "outputs": [
    {
     "name": "stdout",
     "output_type": "stream",
     "text": [
      "Baloon 5\n",
      "Chocholate 1\n",
      "Flower 3\n",
      "Fruit 4\n"
     ]
    }
   ],
   "source": [
    "list1.sort()\n",
    "for key in list1:\n",
    "    print(key,counts[key])"
   ]
  },
  {
   "cell_type": "code",
   "execution_count": null,
   "id": "c1c912bd",
   "metadata": {},
   "outputs": [],
   "source": []
  },
  {
   "cell_type": "code",
   "execution_count": null,
   "id": "a8beb912",
   "metadata": {},
   "outputs": [],
   "source": []
  }
 ],
 "metadata": {
  "kernelspec": {
   "display_name": "Python 3 (ipykernel)",
   "language": "python",
   "name": "python3"
  },
  "language_info": {
   "codemirror_mode": {
    "name": "ipython",
    "version": 3
   },
   "file_extension": ".py",
   "mimetype": "text/x-python",
   "name": "python",
   "nbconvert_exporter": "python",
   "pygments_lexer": "ipython3",
   "version": "3.9.12"
  }
 },
 "nbformat": 4,
 "nbformat_minor": 5
}
