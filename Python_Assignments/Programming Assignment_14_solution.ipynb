{
 "cells": [
  {
   "cell_type": "markdown",
   "id": "9bf47949",
   "metadata": {},
   "source": [
    "## Python Basic Programming Assignment - 14_solution\n",
    "---------------------"
   ]
  },
  {
   "cell_type": "markdown",
   "id": "a8074819",
   "metadata": {},
   "source": [
    "### 1. Define a class with a generator which can iterate the numbers, which are divisible by 7, between a given range 0 and n."
   ]
  },
  {
   "cell_type": "code",
   "execution_count": 2,
   "id": "c4678145",
   "metadata": {},
   "outputs": [
    {
     "name": "stdout",
     "output_type": "stream",
     "text": [
      "Number divisible by 7: 0,7,14,21,28,35,42,49,56,63,70,77,84,91,98\n"
     ]
    }
   ],
   "source": [
    "list1=[]\n",
    "for i in range(0, 100):\n",
    "    if i%7==0:\n",
    "        list1.append(str(i))\n",
    "\n",
    "print('Number divisible by 7:',','.join(list1))"
   ]
  },
  {
   "cell_type": "markdown",
   "id": "8127371b",
   "metadata": {},
   "source": [
    "\n",
    "### 2. Write a program to compute the frequency of the words from the input. The output should output after sorting the key alphanumerically."
   ]
  },
  {
   "cell_type": "code",
   "execution_count": 3,
   "id": "53929611",
   "metadata": {},
   "outputs": [
    {
     "data": {
      "text/plain": [
       "3"
      ]
     },
     "execution_count": 3,
     "metadata": {},
     "output_type": "execute_result"
    }
   ],
   "source": [
    "#string \n",
    "str1 = 'apple babana grape pen pen apple apple'\n",
    "freq = []\n",
    "str1.count('apple')"
   ]
  },
  {
   "cell_type": "code",
   "execution_count": 4,
   "id": "35279b53",
   "metadata": {},
   "outputs": [
    {
     "data": {
      "text/plain": [
       "['apple', 'babana', 'grape', 'pen', 'pen', 'apple', 'apple']"
      ]
     },
     "execution_count": 4,
     "metadata": {},
     "output_type": "execute_result"
    }
   ],
   "source": [
    "#break string onto list pf word\n",
    "word = str1.split()\n",
    "word"
   ]
  },
  {
   "cell_type": "code",
   "execution_count": 5,
   "id": "0a9c5862",
   "metadata": {},
   "outputs": [
    {
     "data": {
      "text/plain": [
       "{'apple', 'babana', 'grape', 'pen'}"
      ]
     },
     "execution_count": 5,
     "metadata": {},
     "output_type": "execute_result"
    }
   ],
   "source": [
    "#set of unique word\n",
    "uni_word=set(word)\n",
    "uni_word"
   ]
  },
  {
   "cell_type": "code",
   "execution_count": 6,
   "id": "3b789928",
   "metadata": {},
   "outputs": [
    {
     "name": "stdout",
     "output_type": "stream",
     "text": [
      "Frequency of  pen is 2\n",
      "Frequency of  apple is 3\n",
      "Frequency of  babana is 1\n",
      "Frequency of  grape is 1\n"
     ]
    }
   ],
   "source": [
    "# iterate the word in frequency\n",
    "for word in uni_word:\n",
    "    print('Frequency of ',word,'is',str1.count(word))"
   ]
  },
  {
   "cell_type": "markdown",
   "id": "4e869c3c",
   "metadata": {},
   "source": [
    "\n",
    "### 3. Define a class Person and its two child classes: Male and Female. All classes have a method \"getGender\" which can print \"Male\" for Male class and \"Female\" for Female class."
   ]
  },
  {
   "cell_type": "code",
   "execution_count": 7,
   "id": "ff51d7e3",
   "metadata": {},
   "outputs": [],
   "source": [
    "class Person(object):\n",
    "    def getGender(self):\n",
    "        return'unknown'\n",
    "\n",
    "class Male(Person):\n",
    "    def getGender(self):\n",
    "        return'Male'\n",
    "    \n",
    "class Female(Person):\n",
    "    def getGender(self):\n",
    "        return'Female'\n",
    "    \n",
    "objmale = Male()\n",
    "objfemale = Female()"
   ]
  },
  {
   "cell_type": "code",
   "execution_count": 8,
   "id": "c19623b8",
   "metadata": {},
   "outputs": [
    {
     "name": "stdout",
     "output_type": "stream",
     "text": [
      "Male\n",
      "Female\n"
     ]
    }
   ],
   "source": [
    "print(objmale.getGender())\n",
    "print(objfemale.getGender())"
   ]
  },
  {
   "cell_type": "markdown",
   "id": "58b5940f",
   "metadata": {},
   "source": [
    "\n",
    "### 4. Please write a program to generate all sentences where subject is in [\"I\", \"You\"] and verb is in ['Play', \"Love\"] and the object is in [\"Hockey\",\"Football\"]."
   ]
  },
  {
   "cell_type": "code",
   "execution_count": 9,
   "id": "25afb2a9",
   "metadata": {},
   "outputs": [
    {
     "name": "stdout",
     "output_type": "stream",
     "text": [
      "I Play Hockey\n",
      "I Play Football\n",
      "I Love Hockey\n",
      "I Love Football\n",
      "You Play Hockey\n",
      "You Play Football\n",
      "You Love Hockey\n",
      "You Love Football\n"
     ]
    }
   ],
   "source": [
    "subject = ['I','You']\n",
    "verb = ['Play','Love']\n",
    "objects = ['Hockey','Football']\n",
    "\n",
    "#to generate all sentence use list conprehension method\n",
    "\n",
    "sentences= [(sub+ ' ' +vb+ ' '+ob ) for sub in subject for vb in verb for ob in objects]\n",
    "for sentence in sentences:\n",
    "    print(sentence)"
   ]
  },
  {
   "cell_type": "markdown",
   "id": "0ddf4f59",
   "metadata": {},
   "source": [
    "\n",
    "### 5. Please write a program to compress and decompress the string \"hello world!hello world!hello world!hello world!\""
   ]
  },
  {
   "cell_type": "markdown",
   "id": "b118ed78",
   "metadata": {},
   "source": [
    "- zlib module available in python to compress and decompress the string. "
   ]
  },
  {
   "cell_type": "code",
   "execution_count": 10,
   "id": "07dc12b8",
   "metadata": {},
   "outputs": [],
   "source": [
    "import zlib"
   ]
  },
  {
   "cell_type": "code",
   "execution_count": 11,
   "id": "2375220a",
   "metadata": {},
   "outputs": [
    {
     "data": {
      "text/plain": [
       "'hello world!hello world!hello world!hello world!'"
      ]
     },
     "execution_count": 11,
     "metadata": {},
     "output_type": "execute_result"
    }
   ],
   "source": [
    "str2 = \"hello world!hello world!hello world!hello world!\"\n",
    "str2"
   ]
  },
  {
   "cell_type": "code",
   "execution_count": 12,
   "id": "7cb866fd",
   "metadata": {},
   "outputs": [
    {
     "name": "stdout",
     "output_type": "stream",
     "text": [
      "Compressed strng b'x\\x9c\\xcbH\\xcd\\xc9\\xc9W(\\xcf/\\xcaIQ\\xcc \\x82\\r\\x00\\xbd[\\x11\\xf5'\n",
      "decompressed strng b'hello world!hello world!hello world!hello world!'\n"
     ]
    }
   ],
   "source": [
    "s = bytes(str2, 'utf-8')\n",
    "comp = zlib.compress(s)\n",
    "print('Compressed strng',comp)\n",
    "\n",
    "#decompress of compressed string\n",
    "\n",
    "decomp = zlib.decompress(comp)\n",
    "print('decompressed strng',decomp)"
   ]
  },
  {
   "cell_type": "markdown",
   "id": "2aeb595b",
   "metadata": {},
   "source": [
    "\n",
    "### 6. Please write a binary search function which searches an item in a sorted list. The function should return the index of element to be searched in the list."
   ]
  },
  {
   "cell_type": "code",
   "execution_count": 13,
   "id": "2c8bf4c2",
   "metadata": {},
   "outputs": [],
   "source": [
    "from bisect import bisect_left\n"
   ]
  },
  {
   "cell_type": "code",
   "execution_count": 14,
   "id": "b1f60a20",
   "metadata": {},
   "outputs": [
    {
     "name": "stdout",
     "output_type": "stream",
     "text": [
      "First occurrence of 8 is present at 4\n"
     ]
    }
   ],
   "source": [
    "  \n",
    "def BinarySearch(list1, x):\n",
    "    i = bisect_left(list1, x)\n",
    "    if i != len(list1) and list1[i] == x:\n",
    "        return i\n",
    "    else:\n",
    "        return -1 \n",
    "\n",
    "list1 = [1, 2, 4, 4, 8,12,2]\n",
    "x = int(8)\n",
    "res = BinarySearch(list1, x)\n",
    "if res == -1:\n",
    "    print(x, \"is absent\")\n",
    "else:\n",
    "    print(\"First occurrence of\", x, \"is present at\", res)    "
   ]
  },
  {
   "cell_type": "code",
   "execution_count": null,
   "id": "69c4cffc",
   "metadata": {},
   "outputs": [],
   "source": []
  }
 ],
 "metadata": {
  "kernelspec": {
   "display_name": "Python 3 (ipykernel)",
   "language": "python",
   "name": "python3"
  },
  "language_info": {
   "codemirror_mode": {
    "name": "ipython",
    "version": 3
   },
   "file_extension": ".py",
   "mimetype": "text/x-python",
   "name": "python",
   "nbconvert_exporter": "python",
   "pygments_lexer": "ipython3",
   "version": "3.9.12"
  }
 },
 "nbformat": 4,
 "nbformat_minor": 5
}
