{
 "cells": [
  {
   "cell_type": "markdown",
   "id": "c8e0e92f",
   "metadata": {},
   "source": [
    "## Programming Assignment_4 solution\n",
    "### 1. Write a Python Program to Find the Factorial of a Number?\n",
    "\n"
   ]
  },
  {
   "cell_type": "code",
   "execution_count": 1,
   "id": "4ccee337",
   "metadata": {},
   "outputs": [
    {
     "name": "stdout",
     "output_type": "stream",
     "text": [
      "Enter a number:6\n",
      "factorial of 6 is 720\n"
     ]
    }
   ],
   "source": [
    "#from getting input from user\n",
    "\n",
    "num = int(input('Enter a number:'))\n",
    "\n",
    "factorial = 1\n",
    "if num <0:\n",
    "    print('Factorial not available for negative number')\n",
    "elif num ==0 :\n",
    "    print('Factorial of 0 is 1')\n",
    "else:\n",
    "    for i in range(1,num+1):\n",
    "        factorial= factorial*i\n",
    "    print('factorial of',num,'is',factorial)"
   ]
  },
  {
   "cell_type": "markdown",
   "id": "46cc2b9f",
   "metadata": {},
   "source": [
    "### 2. Write a Python Program to Display the multiplication Table?\n"
   ]
  },
  {
   "cell_type": "code",
   "execution_count": 2,
   "id": "92597e8e",
   "metadata": {},
   "outputs": [
    {
     "name": "stdout",
     "output_type": "stream",
     "text": [
      "Enter a number:13\n",
      "13 x 1 = 13\n",
      "13 x 2 = 26\n",
      "13 x 3 = 39\n",
      "13 x 4 = 52\n",
      "13 x 5 = 65\n",
      "13 x 6 = 78\n",
      "13 x 7 = 91\n",
      "13 x 8 = 104\n",
      "13 x 9 = 117\n",
      "13 x 10 = 130\n"
     ]
    }
   ],
   "source": [
    "# multiplication of table\n",
    "#iteration of number\n",
    "# eg:13\n",
    "#num = 13\n",
    "#getting input from user\n",
    "\n",
    "num = int(input('Enter a number:'))\n",
    "for i in range(1,11):\n",
    "    print(num,'x' ,i ,'=',num*i )"
   ]
  },
  {
   "cell_type": "markdown",
   "id": "836a9e04",
   "metadata": {},
   "source": [
    "### 3. Write a Python Program to Print the Fibonacci sequence?\n"
   ]
  },
  {
   "cell_type": "markdown",
   "id": "e5e37901",
   "metadata": {},
   "source": [
    "- The **Fibonacci sequence** is a type series where each number is the sum of the two that precede it. \n",
    "- It starts from 0 and 1 usually. \n",
    "- The Fibonacci sequence is given by 0, 1, 1, 2, 3, 5, 8, 13, 21, 34, 55, 89, 144, and so on. "
   ]
  },
  {
   "cell_type": "code",
   "execution_count": 3,
   "id": "f360b735",
   "metadata": {},
   "outputs": [
    {
     "name": "stdout",
     "output_type": "stream",
     "text": [
      "Enter  a number:12\n",
      "0\n",
      "1\n",
      "1\n",
      "2\n",
      "3\n",
      "5\n",
      "8\n",
      "13\n",
      "21\n",
      "34\n",
      "55\n",
      "89\n"
     ]
    }
   ],
   "source": [
    "num= int(input('Enter  a number:'))\n",
    "\n",
    "num1 = 0\n",
    "num2 = 1\n",
    "\n",
    "for n in range(0,num):\n",
    "    if n<= 1:\n",
    "        next_num = n\n",
    "    else:\n",
    "        next_num= num1 + num2\n",
    "        num1 = num2\n",
    "        num2 = next_num\n",
    "    print(next_num)"
   ]
  },
  {
   "cell_type": "markdown",
   "id": "ea943402",
   "metadata": {},
   "source": [
    "### 4. Write a Python Program to Check Armstrong Number?\n"
   ]
  },
  {
   "cell_type": "markdown",
   "id": "9122c4a5",
   "metadata": {},
   "source": [
    "Given a number x, determine whether the given number is Armstrong number or not. A positive integer of n digits is called an Armstrong number of order n (order is number of digits)\n",
    "\n",
    "eg:153\n",
    "\n",
    "1*1*1* + 5*5*5 + 3*3*3 = 153\n",
    "- 153 is Armstrong number"
   ]
  },
  {
   "cell_type": "code",
   "execution_count": 4,
   "id": "8be776b1",
   "metadata": {},
   "outputs": [
    {
     "name": "stdout",
     "output_type": "stream",
     "text": [
      "True\n",
      "153 is a Armstrong number\n"
     ]
    }
   ],
   "source": [
    "def armstrong(num):\n",
    "    num_str = str(num)\n",
    "    n = len(num_str)\n",
    "    sum = 0\n",
    "    for digit in num_str:\n",
    "        sum += int(digit)**n\n",
    "    if sum == num:\n",
    "        return True\n",
    "    else:\n",
    "        return False\n",
    "num=153\n",
    "print(armstrong(num))\n",
    "print(num,'is a Armstrong number')"
   ]
  },
  {
   "cell_type": "markdown",
   "id": "68d62450",
   "metadata": {},
   "source": [
    "### 5. Write a Python Program to Find Armstrong Number in an Interval?"
   ]
  },
  {
   "cell_type": "code",
   "execution_count": 5,
   "id": "ddf3ba11",
   "metadata": {},
   "outputs": [
    {
     "name": "stdout",
     "output_type": "stream",
     "text": [
      "153\n",
      "370\n",
      "371\n",
      "407\n"
     ]
    }
   ],
   "source": [
    "lower = 10\n",
    "upper = 1000\n",
    "\n",
    "for num in range(lower, upper + 1):\n",
    "    order = len(str(num))\n",
    "    sum = 0\n",
    "    temp = num\n",
    "    while temp > 0:\n",
    "        digit = temp % 10\n",
    "        sum += digit ** order\n",
    "        temp //= 10\n",
    "\n",
    "    if num == sum:\n",
    "        print(num)"
   ]
  },
  {
   "cell_type": "markdown",
   "id": "4a4457d6",
   "metadata": {},
   "source": [
    "### 6. Write a Python Program to Find the Sum of Natural Numbers?"
   ]
  },
  {
   "cell_type": "code",
   "execution_count": 6,
   "id": "2238e0e2",
   "metadata": {},
   "outputs": [
    {
     "name": "stdout",
     "output_type": "stream",
     "text": [
      "Enter any Number: 20\n",
      "The Sum of Natural Numbers from 1 to 20 =  210\n"
     ]
    }
   ],
   "source": [
    "num = int(input(\"Enter any Number: \"))\n",
    "total = 0\n",
    " \n",
    "for value in range(1, num + 1):\n",
    "    total = total + value\n",
    "print(\"The Sum of Natural Numbers from 1 to {0} =  {1}\".format(num, total))\n"
   ]
  },
  {
   "cell_type": "code",
   "execution_count": null,
   "id": "50af2bde",
   "metadata": {},
   "outputs": [],
   "source": []
  }
 ],
 "metadata": {
  "kernelspec": {
   "display_name": "Python 3 (ipykernel)",
   "language": "python",
   "name": "python3"
  },
  "language_info": {
   "codemirror_mode": {
    "name": "ipython",
    "version": 3
   },
   "file_extension": ".py",
   "mimetype": "text/x-python",
   "name": "python",
   "nbconvert_exporter": "python",
   "pygments_lexer": "ipython3",
   "version": "3.9.12"
  }
 },
 "nbformat": 4,
 "nbformat_minor": 5
}
