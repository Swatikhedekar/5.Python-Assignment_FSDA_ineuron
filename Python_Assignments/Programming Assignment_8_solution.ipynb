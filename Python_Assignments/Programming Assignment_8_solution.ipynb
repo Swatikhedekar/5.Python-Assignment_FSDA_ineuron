{
 "cells": [
  {
   "cell_type": "markdown",
   "id": "9b304197",
   "metadata": {},
   "source": [
    "# Python Basic Programming Assignment 8"
   ]
  },
  {
   "cell_type": "markdown",
   "id": "22789ae6",
   "metadata": {},
   "source": [
    "### 1. Write a Python Program to Add Two Matrices?"
   ]
  },
  {
   "cell_type": "code",
   "execution_count": 1,
   "id": "16376467",
   "metadata": {},
   "outputs": [],
   "source": [
    "#import numpy\n",
    "import numpy as np"
   ]
  },
  {
   "cell_type": "code",
   "execution_count": 2,
   "id": "dbaa84c2",
   "metadata": {},
   "outputs": [
    {
     "name": "stdout",
     "output_type": "stream",
     "text": [
      "[[1, 2, 3], [4, 3, 2], [2, 3, 3]]\n",
      "[[1, 2, 4], [7, 6, 5], [2, 0, 3]]\n"
     ]
    }
   ],
   "source": [
    "a=[[1,2,3],[4,3,2],[2,3,3]]\n",
    "b=[[1,2,4],[7,6,5],[2,0,3]]\n",
    "\n",
    "print(a)\n",
    "print(b)\n"
   ]
  },
  {
   "cell_type": "code",
   "execution_count": 3,
   "id": "21268f82",
   "metadata": {},
   "outputs": [
    {
     "name": "stdout",
     "output_type": "stream",
     "text": [
      "Mat A:\n",
      "[[1 2 3]\n",
      " [4 3 2]\n",
      " [2 3 3]]\n",
      "mat B:\n",
      "[[1 2 4]\n",
      " [7 6 5]\n",
      " [2 0 3]]\n"
     ]
    }
   ],
   "source": [
    "A=np.array(a)\n",
    "B=np.array(b)\n",
    "print( 'Mat A:') \n",
    "print(A)\n",
    "print('mat B:')\n",
    "print(B)\n"
   ]
  },
  {
   "cell_type": "code",
   "execution_count": 4,
   "id": "6d0da614",
   "metadata": {},
   "outputs": [
    {
     "name": "stdout",
     "output_type": "stream",
     "text": [
      "Addition of mat:C \n",
      " [[ 2  4  7]\n",
      " [11  9  7]\n",
      " [ 4  3  6]]\n"
     ]
    }
   ],
   "source": [
    "print('Addition of mat:C \\n', A+B)"
   ]
  },
  {
   "cell_type": "code",
   "execution_count": 5,
   "id": "4f35b268",
   "metadata": {},
   "outputs": [
    {
     "name": "stdout",
     "output_type": "stream",
     "text": [
      "[2, 4, 7]\n",
      "[11, 9, 7]\n",
      "[4, 3, 6]\n",
      "Addition of two mat: [[2, 4, 7], [11, 9, 7], [4, 3, 6]]\n"
     ]
    }
   ],
   "source": [
    "#or\n",
    "#for addition \n",
    "C = [[0,0,0],[0,0,0],[0,0,0]]\n",
    "\n",
    "for i in range(len(A)):  #iteration of rows\n",
    "    for j in range(len(A[0])): ##iteration of columns\n",
    "        C[i][j] = A[i][j] + B[i][j]\n",
    "for k in C:\n",
    "    print(k)\n",
    "print('Addition of two mat:',C)"
   ]
  },
  {
   "cell_type": "markdown",
   "id": "044ceda6",
   "metadata": {},
   "source": [
    "### 2. Write a Python Program to Multiply Two Matrices?"
   ]
  },
  {
   "cell_type": "code",
   "execution_count": 6,
   "id": "2b087431",
   "metadata": {},
   "outputs": [
    {
     "name": "stdout",
     "output_type": "stream",
     "text": [
      "Mat A:\n",
      "[[1 2 3]\n",
      " [4 3 2]\n",
      " [2 3 3]]\n",
      "mat B:\n",
      "[[1 2 4]\n",
      " [7 6 5]\n",
      " [2 0 3]]\n"
     ]
    }
   ],
   "source": [
    "A=np.array(a)\n",
    "B=np.array(b)\n",
    "print( 'Mat A:') \n",
    "print(A)\n",
    "print('mat B:')\n",
    "print(B)\n"
   ]
  },
  {
   "cell_type": "code",
   "execution_count": 7,
   "id": "62591b21",
   "metadata": {},
   "outputs": [
    {
     "name": "stdout",
     "output_type": "stream",
     "text": [
      "Multiplication of mat: \n",
      " [[ 1  4 12]\n",
      " [28 18 10]\n",
      " [ 4  0  9]]\n"
     ]
    }
   ],
   "source": [
    "#Multiplication of matrics:\n",
    "print('Multiplication of mat: \\n',A*B)"
   ]
  },
  {
   "cell_type": "markdown",
   "id": "5f688e46",
   "metadata": {},
   "source": [
    "### 3. Write a Python Program to Transpose a Matrix?"
   ]
  },
  {
   "cell_type": "code",
   "execution_count": 8,
   "id": "ac17e20f",
   "metadata": {},
   "outputs": [
    {
     "data": {
      "text/plain": [
       "[[1, 2, 3], [4, 5, 6], [8, 8, 9]]"
      ]
     },
     "execution_count": 8,
     "metadata": {},
     "output_type": "execute_result"
    }
   ],
   "source": [
    "a=[[1,2,3],[4,5,6],[8,8,9]]\n",
    "a"
   ]
  },
  {
   "cell_type": "code",
   "execution_count": 9,
   "id": "3e7f9a5a",
   "metadata": {},
   "outputs": [
    {
     "data": {
      "text/plain": [
       "array([[1, 2, 3],\n",
       "       [4, 5, 6],\n",
       "       [8, 8, 9]])"
      ]
     },
     "execution_count": 9,
     "metadata": {},
     "output_type": "execute_result"
    }
   ],
   "source": [
    "import numpy as np\n",
    "b=np.array(a)\n",
    "b"
   ]
  },
  {
   "cell_type": "code",
   "execution_count": 10,
   "id": "6ba58bb1",
   "metadata": {},
   "outputs": [
    {
     "data": {
      "text/plain": [
       "array([[1, 4, 8],\n",
       "       [2, 5, 8],\n",
       "       [3, 6, 9]])"
      ]
     },
     "execution_count": 10,
     "metadata": {},
     "output_type": "execute_result"
    }
   ],
   "source": [
    "#transpose of matrix\n",
    "b.transpose()"
   ]
  },
  {
   "cell_type": "markdown",
   "id": "b2849025",
   "metadata": {},
   "source": [
    "\n",
    "### 4. Write a Python Program to Sort Words in Alphabetic Order?\n"
   ]
  },
  {
   "cell_type": "code",
   "execution_count": 11,
   "id": "4a61f63f",
   "metadata": {},
   "outputs": [
    {
     "data": {
      "text/plain": [
       "['Payal', 'Minal', 'Heena', 'Achal']"
      ]
     },
     "execution_count": 11,
     "metadata": {},
     "output_type": "execute_result"
    }
   ],
   "source": [
    "# using sort() method\n",
    "list1  = ['Payal','Minal','Heena','Achal']\n",
    "list1"
   ]
  },
  {
   "cell_type": "code",
   "execution_count": 12,
   "id": "8b722fc9",
   "metadata": {},
   "outputs": [],
   "source": [
    "list1.sort()\n"
   ]
  },
  {
   "cell_type": "code",
   "execution_count": 13,
   "id": "a44400cf",
   "metadata": {},
   "outputs": [
    {
     "name": "stdout",
     "output_type": "stream",
     "text": [
      "['Achal', 'Heena', 'Minal', 'Payal']\n"
     ]
    }
   ],
   "source": [
    "print(list1)"
   ]
  },
  {
   "cell_type": "markdown",
   "id": "48ac7b24",
   "metadata": {},
   "source": [
    "### 5. Write a Python Program to Remove Punctuation From a String?"
   ]
  },
  {
   "cell_type": "code",
   "execution_count": 14,
   "id": "54fd2430",
   "metadata": {},
   "outputs": [],
   "source": [
    "import string"
   ]
  },
  {
   "cell_type": "code",
   "execution_count": 15,
   "id": "255a79cb",
   "metadata": {},
   "outputs": [
    {
     "data": {
      "text/plain": [
       "'!\"#$%&\\'()*+,-./:;<=>?@[\\\\]^_`{|}~'"
      ]
     },
     "execution_count": 15,
     "metadata": {},
     "output_type": "execute_result"
    }
   ],
   "source": [
    "string.punctuation"
   ]
  },
  {
   "cell_type": "code",
   "execution_count": 16,
   "id": "46b45ff5",
   "metadata": {},
   "outputs": [
    {
     "data": {
      "text/plain": [
       "'Python< is! a@ programming# &language'"
      ]
     },
     "execution_count": 16,
     "metadata": {},
     "output_type": "execute_result"
    }
   ],
   "source": [
    "#string with Punctuation\n",
    "str1 = 'Python< is! a@ programming# &language'\n",
    "str1"
   ]
  },
  {
   "cell_type": "code",
   "execution_count": 17,
   "id": "183cc8a3",
   "metadata": {},
   "outputs": [],
   "source": [
    "#to remove Punctuation\n",
    "for c in string.punctuation:\n",
    "    str1 = str1.replace(c,\"\")"
   ]
  },
  {
   "cell_type": "code",
   "execution_count": 18,
   "id": "db751468",
   "metadata": {},
   "outputs": [
    {
     "name": "stdout",
     "output_type": "stream",
     "text": [
      "Python is a programming language\n"
     ]
    }
   ],
   "source": [
    "print(str1)"
   ]
  },
  {
   "cell_type": "code",
   "execution_count": null,
   "id": "1cd65126",
   "metadata": {},
   "outputs": [],
   "source": []
  }
 ],
 "metadata": {
  "kernelspec": {
   "display_name": "Python 3 (ipykernel)",
   "language": "python",
   "name": "python3"
  },
  "language_info": {
   "codemirror_mode": {
    "name": "ipython",
    "version": 3
   },
   "file_extension": ".py",
   "mimetype": "text/x-python",
   "name": "python",
   "nbconvert_exporter": "python",
   "pygments_lexer": "ipython3",
   "version": "3.9.12"
  }
 },
 "nbformat": 4,
 "nbformat_minor": 5
}
