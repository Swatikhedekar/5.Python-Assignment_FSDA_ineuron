{
 "cells": [
  {
   "cell_type": "markdown",
   "id": "de0c735b",
   "metadata": {},
   "source": [
    "## Programming Assignment_2 solution\n",
    "\n"
   ]
  },
  {
   "cell_type": "markdown",
   "id": "b6c9024c",
   "metadata": {},
   "source": [
    "### 1. Write a Python program to convert kilometers to miles?\n",
    "\n",
    "### Ans: Kilometers and miles are two different units of measurements of distance.\n",
    "\n",
    "**Kilometers** is used for measure long distance.\n",
    "\n",
    "**miles** is used for shorter distance.\n",
    "\n",
    "1kms = 1.609miles\n",
    "\n",
    "1miles = 0.621 kms"
   ]
  },
  {
   "cell_type": "code",
   "execution_count": 1,
   "id": "32be3d37",
   "metadata": {},
   "outputs": [
    {
     "name": "stdout",
     "output_type": "stream",
     "text": [
      "Enter Kilometers:\n",
      "45\n",
      "27.945 miles\n"
     ]
    }
   ],
   "source": [
    "print('Enter Kilometers:')\n",
    "kms = int(input())\n",
    "miles = 0.621*kms\n",
    "print(miles,'miles')"
   ]
  },
  {
   "cell_type": "code",
   "execution_count": 2,
   "id": "567a4ea9",
   "metadata": {},
   "outputs": [
    {
     "name": "stdout",
     "output_type": "stream",
     "text": [
      "Enter miles:\n",
      "44\n",
      "70.79599999999999 kms\n"
     ]
    }
   ],
   "source": [
    "print('Enter miles:')\n",
    "miles = int(input())\n",
    "kms = 1.609*miles\n",
    "print(kms,'kms')"
   ]
  },
  {
   "cell_type": "markdown",
   "id": "405b36a3",
   "metadata": {},
   "source": [
    "### 2.Write a Python program to convert Celsius to Fahrenheit?\n",
    "\n",
    "### Ans: \n",
    "Celsius and Fahrenheit are the units of temperature\n",
    "\n",
    "Fahrenheit = (Celsius *9/5)+32"
   ]
  },
  {
   "cell_type": "code",
   "execution_count": 3,
   "id": "aa4a3087",
   "metadata": {},
   "outputs": [
    {
     "name": "stdout",
     "output_type": "stream",
     "text": [
      "Enter temp in Celsius:\n",
      "19\n",
      "66.2 Fahrenheit\n"
     ]
    }
   ],
   "source": [
    "print('Enter temp in Celsius:')\n",
    "Celsius = float(input())\n",
    "Fahrenheit = (Celsius *9/5)+32\n",
    "print(Fahrenheit,'Fahrenheit')"
   ]
  },
  {
   "cell_type": "code",
   "execution_count": 4,
   "id": "d8016008",
   "metadata": {},
   "outputs": [
    {
     "name": "stdout",
     "output_type": "stream",
     "text": [
      "Enter temp in Fahrenheit:\n",
      "87\n",
      "30.555555555555557 Celsius\n"
     ]
    }
   ],
   "source": [
    "print('Enter temp in Fahrenheit:')\n",
    "Fahrenheit = float(input())\n",
    "Celsius = (Fahrenheit -32 )*5/9\n",
    "print(Celsius,'Celsius')"
   ]
  },
  {
   "cell_type": "markdown",
   "id": "46ceb351",
   "metadata": {},
   "source": [
    "### 3. Write a Python program to display calendar?"
   ]
  },
  {
   "cell_type": "markdown",
   "id": "3c230283",
   "metadata": {},
   "source": [
    "### Ans:Display the calender of month and year.\n",
    "* Using calender module"
   ]
  },
  {
   "cell_type": "code",
   "execution_count": 5,
   "id": "e3fdd110",
   "metadata": {},
   "outputs": [
    {
     "name": "stdout",
     "output_type": "stream",
     "text": [
      "Defaulting to user installation because normal site-packages is not writeable\n",
      "Note: you may need to restart the kernel to use updated packages.\n"
     ]
    },
    {
     "name": "stderr",
     "output_type": "stream",
     "text": [
      "ERROR: Could not find a version that satisfies the requirement calendar (from versions: none)\n",
      "ERROR: No matching distribution found for calendar\n"
     ]
    }
   ],
   "source": [
    "pip install calendar"
   ]
  },
  {
   "cell_type": "code",
   "execution_count": 6,
   "id": "4b21aa7a",
   "metadata": {},
   "outputs": [],
   "source": [
    "import calendar"
   ]
  },
  {
   "cell_type": "code",
   "execution_count": 7,
   "id": "6d742e0d",
   "metadata": {},
   "outputs": [
    {
     "name": "stdout",
     "output_type": "stream",
     "text": [
      "Enter year :2023\n",
      "Enter month: 1\n",
      "    January 2023\n",
      "Mo Tu We Th Fr Sa Su\n",
      "                   1\n",
      " 2  3  4  5  6  7  8\n",
      " 9 10 11 12 13 14 15\n",
      "16 17 18 19 20 21 22\n",
      "23 24 25 26 27 28 29\n",
      "30 31\n",
      "\n"
     ]
    }
   ],
   "source": [
    "# display calendar of month of given year\n",
    "# take year \n",
    "\n",
    "year = int(input(\"Enter year :\"))\n",
    "\n",
    "month = int(input(\"Enter month: \")) # take month\n",
    "\n",
    "print(calendar.month(year,month))  # printing calendar"
   ]
  },
  {
   "cell_type": "code",
   "execution_count": 8,
   "id": "6ace0a1c",
   "metadata": {},
   "outputs": [
    {
     "name": "stdout",
     "output_type": "stream",
     "text": [
      "Enter year :2023\n",
      "                              2023\n",
      "\n",
      "      January               February               March\n",
      "Mo Tu We Th Fr Sa Su  Mo Tu We Th Fr Sa Su  Mo Tu We Th Fr Sa Su\n",
      "                   1         1  2  3  4  5         1  2  3  4  5\n",
      " 2  3  4  5  6  7  8   6  7  8  9 10 11 12   6  7  8  9 10 11 12\n",
      " 9 10 11 12 13 14 15  13 14 15 16 17 18 19  13 14 15 16 17 18 19\n",
      "16 17 18 19 20 21 22  20 21 22 23 24 25 26  20 21 22 23 24 25 26\n",
      "23 24 25 26 27 28 29  27 28                 27 28 29 30 31\n",
      "30 31\n",
      "\n",
      "       April                  May                   June\n",
      "Mo Tu We Th Fr Sa Su  Mo Tu We Th Fr Sa Su  Mo Tu We Th Fr Sa Su\n",
      "                1  2   1  2  3  4  5  6  7            1  2  3  4\n",
      " 3  4  5  6  7  8  9   8  9 10 11 12 13 14   5  6  7  8  9 10 11\n",
      "10 11 12 13 14 15 16  15 16 17 18 19 20 21  12 13 14 15 16 17 18\n",
      "17 18 19 20 21 22 23  22 23 24 25 26 27 28  19 20 21 22 23 24 25\n",
      "24 25 26 27 28 29 30  29 30 31              26 27 28 29 30\n",
      "\n",
      "        July                 August              September\n",
      "Mo Tu We Th Fr Sa Su  Mo Tu We Th Fr Sa Su  Mo Tu We Th Fr Sa Su\n",
      "                1  2      1  2  3  4  5  6               1  2  3\n",
      " 3  4  5  6  7  8  9   7  8  9 10 11 12 13   4  5  6  7  8  9 10\n",
      "10 11 12 13 14 15 16  14 15 16 17 18 19 20  11 12 13 14 15 16 17\n",
      "17 18 19 20 21 22 23  21 22 23 24 25 26 27  18 19 20 21 22 23 24\n",
      "24 25 26 27 28 29 30  28 29 30 31           25 26 27 28 29 30\n",
      "31\n",
      "\n",
      "      October               November              December\n",
      "Mo Tu We Th Fr Sa Su  Mo Tu We Th Fr Sa Su  Mo Tu We Th Fr Sa Su\n",
      "                   1         1  2  3  4  5               1  2  3\n",
      " 2  3  4  5  6  7  8   6  7  8  9 10 11 12   4  5  6  7  8  9 10\n",
      " 9 10 11 12 13 14 15  13 14 15 16 17 18 19  11 12 13 14 15 16 17\n",
      "16 17 18 19 20 21 22  20 21 22 23 24 25 26  18 19 20 21 22 23 24\n",
      "23 24 25 26 27 28 29  27 28 29 30           25 26 27 28 29 30 31\n",
      "30 31\n",
      "\n"
     ]
    }
   ],
   "source": [
    "# display calendar of months of any year\n",
    "import calendar\n",
    "\n",
    "year = int(input(\"Enter year :\"))\n",
    "\n",
    "cal = calendar.TextCalendar(calendar.MONDAY)\n",
    "\n",
    "print(cal.formatyear(year, 2, 1, 1, 3))"
   ]
  },
  {
   "cell_type": "markdown",
   "id": "174aa6ee",
   "metadata": {},
   "source": [
    "### 4. Write a Python program to solve quadratic equation?"
   ]
  },
  {
   "cell_type": "markdown",
   "id": "435035a9",
   "metadata": {},
   "source": [
    "### The standard form of a quadratic equation is:\n",
    "ax2 + bx + c = 0, where\n",
    "a, b and c are real numbers and\n",
    "a ≠ 0\n",
    "\n",
    "- The solutions of this quadratic equation is given by:\n",
    "\n",
    "(-b ± (b ** 2 - 4 * a * c) ** 0.5) / (2 * a)\n",
    "\n"
   ]
  },
  {
   "cell_type": "code",
   "execution_count": 9,
   "id": "bb7d2926",
   "metadata": {},
   "outputs": [
    {
     "name": "stdout",
     "output_type": "stream",
     "text": [
      "The solution are (-3+0j) and (-2+0j)\n"
     ]
    }
   ],
   "source": [
    "# import complex math module\n",
    "import cmath\n",
    "\n",
    "a = 1\n",
    "b = 5\n",
    "c = 6\n",
    "\n",
    "# calculate the discriminant\n",
    "d = (b**2) - (4*a*c)\n",
    "\n",
    "# find two solutions\n",
    "sol1 = (-b-cmath.sqrt(d))/(2*a)\n",
    "sol2 = (-b+cmath.sqrt(d))/(2*a)\n",
    "\n",
    "print('The solution are {0} and {1}'.format(sol1,sol2))"
   ]
  },
  {
   "cell_type": "markdown",
   "id": "17e1b5a9",
   "metadata": {},
   "source": [
    "### 5. Write a Python program to swap two variables without temp variable?"
   ]
  },
  {
   "cell_type": "code",
   "execution_count": 10,
   "id": "6599a1c3",
   "metadata": {},
   "outputs": [
    {
     "name": "stdout",
     "output_type": "stream",
     "text": [
      "x =  6\n",
      "y =  4\n"
     ]
    }
   ],
   "source": [
    "# define variable\n",
    "x = 4\n",
    "y = 6\n",
    "\n",
    "#Swap variable without temp variable\n",
    "x,y = y,x\n",
    "\n",
    "print('x = ', x)\n",
    "print('y = ', y)"
   ]
  },
  {
   "cell_type": "code",
   "execution_count": null,
   "id": "320360ef",
   "metadata": {},
   "outputs": [],
   "source": []
  },
  {
   "cell_type": "code",
   "execution_count": null,
   "id": "3e99e03e",
   "metadata": {},
   "outputs": [],
   "source": []
  }
 ],
 "metadata": {
  "kernelspec": {
   "display_name": "Python 3 (ipykernel)",
   "language": "python",
   "name": "python3"
  },
  "language_info": {
   "codemirror_mode": {
    "name": "ipython",
    "version": 3
   },
   "file_extension": ".py",
   "mimetype": "text/x-python",
   "name": "python",
   "nbconvert_exporter": "python",
   "pygments_lexer": "ipython3",
   "version": "3.9.12"
  }
 },
 "nbformat": 4,
 "nbformat_minor": 5
}
